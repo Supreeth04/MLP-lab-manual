{
  "nbformat": 4,
  "nbformat_minor": 0,
  "metadata": {
    "colab": {
      "name": "K. V. S. Supreeth_3530 EP Lab Record.ipynb",
      "provenance": [],
      "collapsed_sections": [
        "q2hQB9mzL3Jd",
        "5WdKV-HiKvnv",
        "SDIoLBghXEHi",
        "QVryMIfQeOJF",
        "aHCCEc6DkGgH",
        "OJ8YEfg3kIJM",
        "Pft97LvidSHg",
        "8jHHgYZ2kZse",
        "4mpI5fyTlXw8",
        "_YqaetBMUEBr",
        "ETCsfwLQUD-N",
        "7bVWWOexUD7t",
        "qaAMRilMUD5H",
        "qDzEibi6JTRW",
        "F0BJAc3hN1hx",
        "vW-h2vX_UDxQ",
        "a3jgjyIY5l31",
        "ginKqbPL5qzO",
        "7NC4wJNv50Ip",
        "IlfLNBY-7mMM",
        "yMfjNWjQ8bX1",
        "N4F9Y5o4FP0K",
        "VrhWCzqGPPsp",
        "AXaLe88MGBCS",
        "C4lNVK3lGDoy",
        "GKM0qdxLGLnQ",
        "D2IFAZazGQG6"
      ]
    },
    "kernelspec": {
      "name": "python3",
      "display_name": "Python 3"
    },
    "language_info": {
      "name": "python"
    }
  },
  "cells": [
    {
      "cell_type": "code",
      "metadata": {
        "colab": {
          "base_uri": "https://localhost:8080/"
        },
        "id": "dbMnDFNvO8dG",
        "outputId": "40abfc3d-274f-4321-8467-a08862452af4"
      },
      "source": [
        "  pip install pdfcrowd"
      ],
      "execution_count": null,
      "outputs": [
        {
          "output_type": "stream",
          "text": [
            "Collecting pdfcrowd\n",
            "  Downloading pdfcrowd-5.1.3-py2.py3-none-any.whl (39 kB)\n",
            "Installing collected packages: pdfcrowd\n",
            "Successfully installed pdfcrowd-5.1.3\n"
          ],
          "name": "stdout"
        }
      ]
    },
    {
      "cell_type": "markdown",
      "metadata": {
        "id": "q2hQB9mzL3Jd"
      },
      "source": [
        "# Exercise 1 "
      ]
    },
    {
      "cell_type": "markdown",
      "metadata": {
        "id": "5WdKV-HiKvnv"
      },
      "source": [
        "## **1. Write a program to demonstrate the use of basic Data Types**\n"
      ]
    },
    {
      "cell_type": "markdown",
      "metadata": {
        "id": "neJV12I2MC1M"
      },
      "source": [
        "Basic data types in the python are \n",
        "1. Numeric\n",
        "2. Sequence\n",
        "3. Set\n",
        "4. Boolean\n",
        "5. Dictionaries"
      ]
    },
    {
      "cell_type": "code",
      "metadata": {
        "colab": {
          "base_uri": "https://localhost:8080/"
        },
        "id": "tLyCL6y1MKFt",
        "outputId": "f4b2948d-2b19-4c42-f3f8-ec7f685951b2"
      },
      "source": [
        "#1.NUMERIC\n",
        "#a)int\n",
        "a=int(input(\"Enter a number : \"))\n",
        "b=int(input(\"Enter a number : \"))\n",
        "c=a+b\n",
        "print(\"Sum is\",c)\n",
        "print(type(c))\n",
        "print(\".......\")\n",
        " \n",
        "#b)float\n",
        "a=float(input(\"Enter a number : \"))\n",
        "b=float(input(\"Enter a number : \"))\n",
        "c=a+b\n",
        "print(\"Sum is\",c)\n",
        "print(type(c))\n",
        "print(\".......\")\n",
        " \n",
        "#c)complex\n",
        "a=complex(input(\"Enter a number : \"))\n",
        "b=complex(input(\"Enter a number : \"))\n",
        "c=a+b\n",
        "print(\"Sum is\",c)\n",
        "print(type(c))\n",
        "print(\"_____________\")\n",
        " \n",
        "#2.BOOLEANS\n",
        "print(10 > 9)\n",
        "print(10 == 9)\n",
        "print(10 < 9)\n",
        "print(\"_____________\")\n",
        " \n",
        "#3.SETS\n",
        "Set = {1, 2, 3}\n",
        "print(Set)\n",
        "Set = {1.0, \"Hello\", (1, 2, 3)}\n",
        "print(Set)\n",
        "print(type(Set))\n",
        "print(\"_____________\")\n",
        "#4.SEQUENCE TYPE\n",
        " \n",
        "#a)Strings\n",
        "my_string = \"Hello\"\n",
        "print(my_string)\n",
        "my_string = \"\"\"Hi, I am Supreeth.\"\"\"\n",
        "print(my_string)\n",
        "print(my_string[0:16])\n",
        "print(my_string[:-10])\n",
        "print(type(my_string))\n",
        "print(\".......\")\n",
        " \n",
        "#b)list\n",
        "my_list = ['a','b','c','d','e']\n",
        "print(my_list)\n",
        "print(my_list[2])\n",
        "print(my_list[-1])\n",
        "print(type(my_list))\n",
        "print(\".......\")\n",
        " \n",
        "#c)Tuple\n",
        "tup=('Supreeth','Aditya','Charan','Mr.So4','TeamNESReaper','Hrittu')\n",
        "print(tup)\n",
        "print(tup[0])\n",
        "print(tup[1:4])\n",
        "print(type(tup))\n",
        "print(\"_____________\")\n",
        " \n",
        "#5.DICTIONARY\n",
        "my_dict = {'name': 'Supreeth', 'age': 20}\n",
        "print(my_dict)\n",
        "print(my_dict['name'])\n",
        "print(my_dict.get('age'))\n",
        "print(type(my_dict))"
      ],
      "execution_count": null,
      "outputs": [
        {
          "output_type": "stream",
          "text": [
            "Enter a number : 20\n",
            "Enter a number : 21\n",
            "Sum is 41\n",
            "<class 'int'>\n",
            ".......\n",
            "Enter a number : 23\n",
            "Enter a number : 15\n",
            "Sum is 38.0\n",
            "<class 'float'>\n",
            ".......\n",
            "Enter a number : 231\n",
            "Enter a number : 21\n",
            "Sum is (252+0j)\n",
            "<class 'complex'>\n",
            "_____________\n",
            "True\n",
            "False\n",
            "False\n",
            "_____________\n",
            "{1, 2, 3}\n",
            "{1.0, 'Hello', (1, 2, 3)}\n",
            "<class 'set'>\n",
            "_____________\n",
            "Hello\n",
            "Hi, I am Supreeth.\n",
            "Hi, I am Supreet\n",
            "Hi, I am\n",
            "<class 'str'>\n",
            ".......\n",
            "['a', 'b', 'c', 'd', 'e']\n",
            "c\n",
            "e\n",
            "<class 'list'>\n",
            ".......\n",
            "('Supreeth', 'Aditya', 'Charan', 'Mr.So4', 'TeamNESReaper', 'Hrittu')\n",
            "Supreeth\n",
            "('Aditya', 'Charan', 'Mr.So4')\n",
            "<class 'tuple'>\n",
            "_____________\n",
            "{'name': 'Supreeth', 'age': 20}\n",
            "Supreeth\n",
            "20\n",
            "<class 'dict'>\n"
          ],
          "name": "stdout"
        }
      ]
    },
    {
      "cell_type": "markdown",
      "metadata": {
        "id": "7bIjMV1SVK_m"
      },
      "source": [
        "The big difference between lists and tuples are, tuples are immutable where as lists are mutable (i.e) the lists can be changed."
      ]
    },
    {
      "cell_type": "markdown",
      "metadata": {
        "id": "SDIoLBghXEHi"
      },
      "source": [
        "## **2. Write a program to demonstrate the Operators and Expressions**\n"
      ]
    },
    {
      "cell_type": "code",
      "metadata": {
        "id": "RRFcX9uZVBpF",
        "colab": {
          "base_uri": "https://localhost:8080/"
        },
        "outputId": "b39983d9-b5d7-4bb5-b8d5-ace0fd66666e"
      },
      "source": [
        "#(i) Operations\n",
        "#Addtion\n",
        "a = int (input('Enter a number :'))\n",
        "b = int (input('Enter a number :'))\n",
        "addn = a + b\n",
        "print('The sum of the entered numbers {} and {} is {}'.format(a,b,addn))\n",
        "\n",
        "#Subtraction\n",
        "c = int (input('Enter a number :'))\n",
        "d = int (input('Enter a number :'))\n",
        "subn = c - d\n",
        "print('The subtraction of the entered numbers {} and {} is {}'.format(c,d,subn))\n",
        "\n",
        "#Multiplication\n",
        "e = int (input('Enter a number :'))\n",
        "f = int (input('Enter a number :'))\n",
        "Multiplication = a * b\n",
        "print('The product of the entered numbers {} and {} is {}'.format(e,f,Multiplication))\n",
        "\n",
        "#Division\n",
        "g = int (input('Enter a number :'))\n",
        "h = int (input('Enter a number :'))\n",
        "division = g * h\n",
        "print('The division of the entered numbers {} and {} is {}'.format(e,f,division))\n",
        "\n",
        "# Power/ Exponential\n",
        "i = int (input('Enter a number :'))\n",
        "j = int (input('Enter a number :'))\n",
        "expn = i ** j\n",
        "print('The exponential of the entered numbers {} and {} is {}'.format(i,j,expn))\n",
        "\n",
        "#Modullus\n",
        "k =  int (input('Enter a number :'))\n",
        "l =  int (input('Enter a number :'))\n",
        "Mod = k % l \n",
        "print('The modulus of the entered numbers {} and {} is {}'.format(k,l,Mod))\n",
        "\n",
        "# Floor\n",
        "m =  int (input('Enter a number :'))\n",
        "n =  int (input('Enter a number :'))\n",
        "floor = m // n\n",
        "print('The floor value of the entered numbers {} and {} is {}'.format(m,n,floor))"
      ],
      "execution_count": null,
      "outputs": [
        {
          "output_type": "stream",
          "text": [
            "Enter a number :12\n",
            "Enter a number :21\n",
            "The sum of the entered numbers 12 and 21 is 33\n",
            "Enter a number :33\n",
            "Enter a number :12\n",
            "The subtraction of the entered numbers 33 and 12 is 21\n",
            "Enter a number :23\n",
            "Enter a number :21\n",
            "The product of the entered numbers 23 and 21 is 252\n",
            "Enter a number :23\n",
            "Enter a number :44\n",
            "The division of the entered numbers 23 and 21 is 1012\n",
            "Enter a number :411\n",
            "Enter a number :221\n",
            "The exponential of the entered numbers 411 and 221 is 45608168721099379201322636435189235701989352364831309528375742853468586940794318887493011661468917632952984733228688020264116044609807427845423643139420350755991146813498658908295636110093790575075455638956083884417278094820397203329518775669591598209449536008224743092540781154568994877825715113162154167748210357308186487699405667405496654984356983085311457968761180981747440167185834506556272677338636916028020219386291700957630423767322670588140435449103873794938631767244102744023402184463450368620207938725292461418975804088903100566613478275702340090439179555588908081611\n",
            "Enter a number :21\n",
            "Enter a number :2\n",
            "The modulus of the entered numbers 21 and 2 is 1\n",
            "Enter a number :231\n",
            "Enter a number :22\n",
            "The floor value of the entered numbers 231 and 22 is 10\n"
          ],
          "name": "stdout"
        }
      ]
    },
    {
      "cell_type": "code",
      "metadata": {
        "id": "UxN5M9BXcGno",
        "colab": {
          "base_uri": "https://localhost:8080/"
        },
        "outputId": "4ff9a19a-3c9a-499e-fde3-a008eace7d5e"
      },
      "source": [
        "# (ii) Expression\n",
        "x = 2\n",
        "y = 4\n",
        "str1 = 'x**2 + x ** y + x*y - (x/y)'\n",
        "a = x**2 + x ** y + x*y - (x/y)\n",
        "print('The value of the expression {} is {}'.format(str1,a))"
      ],
      "execution_count": null,
      "outputs": [
        {
          "output_type": "stream",
          "text": [
            "The value of the expression x**2 + x ** y + x*y - (x/y) is 27.5\n"
          ],
          "name": "stdout"
        }
      ]
    },
    {
      "cell_type": "markdown",
      "metadata": {
        "id": "QVryMIfQeOJF"
      },
      "source": [
        "## **3.Write a program to demonstrate the Functions and parameter passing Techniques.**"
      ]
    },
    {
      "cell_type": "code",
      "metadata": {
        "colab": {
          "base_uri": "https://localhost:8080/"
        },
        "id": "Dgmyk4sseYJZ",
        "outputId": "09c69df4-3c66-4246-ace3-2e75a738fe57"
      },
      "source": [
        "def my_function (a,b):\n",
        "  a = int (input('Enter a number :'))\n",
        "  b = int (input('Enter a number :'))\n",
        "  print(a+b)\n",
        "\n",
        "my_function(_,_)"
      ],
      "execution_count": null,
      "outputs": [
        {
          "output_type": "stream",
          "text": [
            "Enter a number :2\n",
            "Enter a number :4\n",
            "6\n"
          ],
          "name": "stdout"
        }
      ]
    },
    {
      "cell_type": "markdown",
      "metadata": {
        "id": "aHCCEc6DkGgH"
      },
      "source": [
        "# Exercise 2 "
      ]
    },
    {
      "cell_type": "markdown",
      "metadata": {
        "id": "OJ8YEfg3kIJM"
      },
      "source": [
        "## 1. Write a Program to implement\n",
        "i. Packages\n",
        "\n",
        "ii. Modules\n",
        "\n",
        "iii. Built-in Functions"
      ]
    },
    {
      "cell_type": "markdown",
      "metadata": {
        "id": "Pft97LvidSHg"
      },
      "source": [
        "### Built-in Functions."
      ]
    },
    {
      "cell_type": "code",
      "metadata": {
        "id": "D7IyUcRPHxkJ",
        "colab": {
          "base_uri": "https://localhost:8080/"
        },
        "outputId": "de541dc6-c41f-4c19-e045-41620c790ca4"
      },
      "source": [
        "#1.Absolute\n",
        "print(\"ABSOLUTE\")\n",
        "print('Absolute of -10.589 = ', abs(-1002.589))\n",
        "#2.Binary\n",
        "print(\"BINARY\")\n",
        "print(\"Binary Equalent of 168\", bin(168))\n",
        "#3.Quotient and remainder\n",
        "print(\"QUOTIENT AND REMAINDER\")\n",
        "print(\"Quotient and remainder of 100/5 = \" , divmod(100,5))\n",
        "#4.Float\n",
        "print(\"FLOAT\")\n",
        "print(\"float value of 10 = \", float(10))\n",
        "#5.Int\n",
        "print(\"INT\")\n",
        "print(\"int value of 10.2 =\", int(10.2))\n",
        "#6.Max\n",
        "print(\"MAX\")\n",
        "print(\"Maximum of 10,20,30 = \", max(10,20,30))\n",
        "#7.Min\n",
        "print(\"MIN\")\n",
        "print(\"Minimum of 10,20,30 = \", min(10,20,30))\n",
        "#8.Power\n",
        "print(\"POWER\")\n",
        "print(\"2 power 4 = \", pow(2,4))\n",
        "#9.Evaluate\n",
        "print(\"EVALUATE\")\n",
        "x=2\n",
        "print(\"Evaluate value of x**2 = \",eval('x**2'))\n",
        "import math\n",
        "#9.Square root\n",
        "print(\"SQUARE ROOT\")\n",
        "print(\"Square root of 25 = \" ,math.sqrt(25))\n"
      ],
      "execution_count": null,
      "outputs": [
        {
          "output_type": "stream",
          "text": [
            "ABSOLUTE\n",
            "Absolute of -10.589 =  1002.589\n",
            "BINARY\n",
            "Binary Equalent of 168 0b10101000\n",
            "QUOTIENT AND REMAINDER\n",
            "Quotient and remainder of 100/5 =  (20, 0)\n",
            "FLOAT\n",
            "float value of 10 =  10.0\n",
            "INT\n",
            "int value of 10.2 = 10\n",
            "MAX\n",
            "Maximum of 10,20,30 =  30\n",
            "MIN\n",
            "Minimum of 10,20,30 =  10\n",
            "POWER\n",
            "2 power 4 =  16\n",
            "EVALUATE\n",
            "Evaluate value of x**2 =  4\n",
            "SQUARE ROOT\n",
            "Square root of 25 =  5.0\n"
          ],
          "name": "stdout"
        }
      ]
    },
    {
      "cell_type": "markdown",
      "metadata": {
        "id": "8jHHgYZ2kZse"
      },
      "source": [
        "## **2. Write a Program to implement**\n",
        "## i. List \n",
        "\n",
        "## ii. Tuple \n",
        "\n",
        "## iii. Dictionaries \n"
      ]
    },
    {
      "cell_type": "code",
      "metadata": {
        "id": "gXyqRgR_ORL3",
        "colab": {
          "base_uri": "https://localhost:8080/"
        },
        "outputId": "f01dc9c1-bf03-4576-de78-ef1a421e2d18"
      },
      "source": [
        "# (i) Lists\n",
        "my_list =['Hello',1,2,3,'This is','Start of ep lab','manual']\n",
        "print(my_list)\n",
        "print(my_list[0:4])\n",
        "\n",
        "# (ii) Tuples\n",
        "my_tuples = ('Hello','This',1,2)\n",
        "print(my_tuples)\n",
        "print(my_tuples[0:3])\n",
        "\n",
        "# (iii) Dictionaries\n",
        "my_dict = {'key1': 1+2 ,'key2': 3+4 ,'key3' : 5+6 ,'key4' : 7+8}\n",
        "print(my_dict)"
      ],
      "execution_count": null,
      "outputs": [
        {
          "output_type": "stream",
          "text": [
            "['Hello', 1, 2, 3, 'This is', 'Start of ep lab', 'manual']\n",
            "['Hello', 1, 2, 3]\n",
            "('Hello', 'This', 1, 2)\n",
            "('Hello', 'This', 1)\n",
            "{'key1': 3, 'key2': 7, 'key3': 11, 'key4': 15}\n"
          ],
          "name": "stdout"
        }
      ]
    },
    {
      "cell_type": "markdown",
      "metadata": {
        "id": "4mpI5fyTlXw8"
      },
      "source": [
        "## **3. Programs on Stings, String Operations and Regular Expressions.**"
      ]
    },
    {
      "cell_type": "code",
      "metadata": {
        "colab": {
          "base_uri": "https://localhost:8080/"
        },
        "id": "gl2qZ0FimTNT",
        "outputId": "3ed0dfb9-3c60-48ae-cce4-4d8b8c046884"
      },
      "source": [
        "# String \n",
        "str1 = 'Hello, '\n",
        "str2 = 'this is xyz.'\n",
        "print(str1+str2)"
      ],
      "execution_count": null,
      "outputs": [
        {
          "output_type": "stream",
          "text": [
            "Hello, this is xyz.\n"
          ],
          "name": "stdout"
        }
      ]
    },
    {
      "cell_type": "code",
      "metadata": {
        "colab": {
          "base_uri": "https://localhost:8080/"
        },
        "id": "H6KH11jYnzwn",
        "outputId": "69aa30d4-1cc7-410d-d0db-5e7f6e1e91da"
      },
      "source": [
        "# String operations\n",
        "str1 = 'Hello '\n",
        "print (str1*4)"
      ],
      "execution_count": null,
      "outputs": [
        {
          "output_type": "stream",
          "text": [
            "Hello Hello Hello Hello \n"
          ],
          "name": "stdout"
        }
      ]
    },
    {
      "cell_type": "code",
      "metadata": {
        "colab": {
          "base_uri": "https://localhost:8080/"
        },
        "id": "Vo-Fyssen2YC",
        "outputId": "04e17b62-460a-4fc6-c6a9-c704fffc142c"
      },
      "source": [
        "str2 = ' Hello '\n",
        "str3 = ' hello '\n",
        "print(str2 == str3) \n",
        "str2 != str3 "
      ],
      "execution_count": null,
      "outputs": [
        {
          "output_type": "stream",
          "text": [
            "False\n"
          ],
          "name": "stdout"
        },
        {
          "output_type": "execute_result",
          "data": {
            "text/plain": [
              "True"
            ]
          },
          "metadata": {
            "tags": []
          },
          "execution_count": 5
        }
      ]
    },
    {
      "cell_type": "code",
      "metadata": {
        "colab": {
          "base_uri": "https://localhost:8080/"
        },
        "id": "kiQfM2OLoqnE",
        "outputId": "6e008be5-6efc-4bc5-f3b8-9d956dc74db6"
      },
      "source": [
        "str3 = 'Hello, this is a test string'\n",
        "print(\"a\" in str3)"
      ],
      "execution_count": null,
      "outputs": [
        {
          "output_type": "stream",
          "text": [
            "True\n"
          ],
          "name": "stdout"
        }
      ]
    },
    {
      "cell_type": "code",
      "metadata": {
        "colab": {
          "base_uri": "https://localhost:8080/",
          "height": 35
        },
        "id": "ri0VyC58pCoM",
        "outputId": "0c179868-0356-427b-a875-c2be512885c3"
      },
      "source": [
        "str3[0:-3]"
      ],
      "execution_count": null,
      "outputs": [
        {
          "output_type": "execute_result",
          "data": {
            "application/vnd.google.colaboratory.intrinsic+json": {
              "type": "string"
            },
            "text/plain": [
              "'Hello, this is a test str'"
            ]
          },
          "metadata": {
            "tags": []
          },
          "execution_count": 14
        }
      ]
    },
    {
      "cell_type": "code",
      "metadata": {
        "id": "5yv-9U-6pFzi"
      },
      "source": [
        "del str3\n"
      ],
      "execution_count": null,
      "outputs": []
    },
    {
      "cell_type": "code",
      "metadata": {
        "colab": {
          "base_uri": "https://localhost:8080/"
        },
        "id": "kFyz4YbRpjCl",
        "outputId": "8aef889c-fc79-4d3f-f06f-596f7881facd"
      },
      "source": [
        "print(\"STRING OPERATIONS\")\n",
        "s='Hi I am Supreeth from VJIT, Aziz Nagar'\n",
        "t='Hi'\n",
        "print(len(str(s)))#finding length of the string\n",
        "print(s.capitalize())#capitalizing first letter of sting\n",
        "print(s.count('i',0,40))\n",
        "print(s.index(\"f\",12,30))\n",
        "print(s.isalnum())\n",
        "print(s.endswith(\"o\",0,5))\n",
        "print(s.find(\"from arti\"))\n",
        "print(s.isupper())\n",
        "print(s.islower())\n",
        "print(s.isspace())\n",
        "print(s.istitle())\n",
        "print(t.join(t))\n",
        "print(s.partition(\"from\"))\n",
        "print(s.upper())\n",
        "print(s.replace(\"intelligence\",\"engineering\"))\n",
        "print(\"_____________________\")"
      ],
      "execution_count": null,
      "outputs": [
        {
          "output_type": "stream",
          "text": [
            "STRING OPERATIONS\n",
            "38\n",
            "Hi i am supreeth from vjit, aziz nagar\n",
            "2\n",
            "17\n",
            "False\n",
            "False\n",
            "-1\n",
            "False\n",
            "False\n",
            "False\n",
            "False\n",
            "HHii\n",
            "('Hi I am Supreeth ', 'from', ' VJIT, Aziz Nagar')\n",
            "HI I AM SUPREETH FROM VJIT, AZIZ NAGAR\n",
            "Hi I am Supreeth from VJIT, Aziz Nagar\n",
            "_____________________\n"
          ],
          "name": "stdout"
        }
      ]
    },
    {
      "cell_type": "code",
      "metadata": {
        "id": "sbJkp5XapS1O",
        "colab": {
          "base_uri": "https://localhost:8080/"
        },
        "outputId": "5049b2d1-03cf-4f08-a4b8-00fd0bed3c6e"
      },
      "source": [
        "# Reggular Expression\n",
        "\n",
        "# Match\n",
        "import re\n",
        "\n",
        "first_Name = \"Supreeth\"\n",
        "last_name = \"Kousika\"\n",
        "if re.match(first_Name,last_name):\n",
        "  print(\"Match!\")\n",
        "else: \n",
        "  print(\"Not a match!\")\n",
        "\n",
        "# Findall\n",
        "S ='Hi I am Supreeth, I am from VJIT.'\n",
        "\n",
        "# Findall\n",
        "x1   = re.findall('[abc]' , S )\n",
        "y1   = re.findall('[a-c]', S)\n",
        "z    = re.findall('^[a-c]', S)\n",
        "tes1 = re.findall('a*', S)\n",
        "v    = re.findall('[a-e]*', S)\n",
        "n    = re.findall('[A-Z][a-z]*', S)\n",
        "print(x1)\n",
        "print(y1)\n",
        "print(z)\n",
        "print(tes1)\n",
        "print(v)\n",
        "print(n)\n",
        "\n",
        "# Search\n",
        "if re.search('a*', S):\n",
        "  print('Found')\n",
        "else:\n",
        "  print('Not found')\n",
        "\n",
        "# Split\n",
        "text='Hi I am Supreeth Kousika from VJIT.'\n",
        "result = re.split('[a-e]',text)\n",
        "print(result)"
      ],
      "execution_count": null,
      "outputs": [
        {
          "output_type": "stream",
          "text": [
            "Not a match!\n",
            "['a', 'a']\n",
            "['a', 'a']\n",
            "[]\n",
            "['', '', '', '', '', 'a', '', '', '', '', '', '', '', '', '', '', '', '', '', '', 'a', '', '', '', '', '', '', '', '', '', '', '', '', '']\n",
            "['', '', '', '', '', 'a', '', '', '', '', '', '', 'ee', '', '', '', '', '', '', 'a', '', '', '', '', '', '', '', '', '', '', '', '', '']\n",
            "['Hi', 'I', 'Supreeth', 'I', 'V', 'J', 'I', 'T']\n",
            "Found\n",
            "['Hi I ', 'm Supr', '', 'th Kousik', ' from VJIT.']\n"
          ],
          "name": "stdout"
        }
      ]
    },
    {
      "cell_type": "markdown",
      "metadata": {
        "id": "_YqaetBMUEBr"
      },
      "source": [
        "# Exercise 3"
      ]
    },
    {
      "cell_type": "markdown",
      "metadata": {
        "id": "ETCsfwLQUD-N"
      },
      "source": [
        "## **1. Write a Program to implement Class and Object**"
      ]
    },
    {
      "cell_type": "code",
      "metadata": {
        "colab": {
          "base_uri": "https://localhost:8080/"
        },
        "id": "zVnVeLciWlJk",
        "outputId": "11697cbe-8842-4959-9df6-edf70b690d5a"
      },
      "source": [
        "#Creating a class\n",
        "class student:\n",
        "  \"This is a student class\"\n",
        "  age=20\n",
        "\n",
        "  def greet(self):\n",
        "    return \"Good morning\"\n",
        "\n",
        "#Creating an object \n",
        "p1=student\n",
        "print(p1.age)\n",
        "print(p1.greet('Hello'))"
      ],
      "execution_count": null,
      "outputs": [
        {
          "output_type": "stream",
          "text": [
            "20\n",
            "Good morning\n"
          ],
          "name": "stdout"
        }
      ]
    },
    {
      "cell_type": "markdown",
      "metadata": {
        "id": "7bVWWOexUD7t"
      },
      "source": [
        "## **2. Write a Program to implement Static and Instance methods, Abstract Classes and Interfaces**.\n"
      ]
    },
    {
      "cell_type": "code",
      "metadata": {
        "id": "DzqUfAdbW7Pj"
      },
      "source": [
        "from abc import ABC,abstractclassmethod"
      ],
      "execution_count": null,
      "outputs": []
    },
    {
      "cell_type": "code",
      "metadata": {
        "id": "bGun8UppXwpH",
        "colab": {
          "base_uri": "https://localhost:8080/"
        },
        "outputId": "9d97e2aa-bd28-4277-b3ef-d1c8dc6d400e"
      },
      "source": [
        "\n",
        "print(\"STATIC AND INSTANCE METHODS\")\n",
        "class Shape:\n",
        "    def rectArea(self,l,b):\n",
        "        return(l*b)\n",
        "    @classmethod\n",
        "    def sqArea(cls,s):\n",
        "        return(s*s)\n",
        "    @staticmethod\n",
        "    def CircleArea(r):\n",
        "        return(3.14*r*r)\n",
        "s=Shape()        \n",
        "print(\"Area of Rectangle = \",s.rectArea(4,14))\n",
        "print(\"Area of Square = \",Shape.sqArea(4))\n",
        "print(\"Area of Circle = \",Shape.CircleArea(8))\n",
        "print(\"___________________\")\n",
        "\n",
        "print(\"ABSTRACT CLASS\")\n",
        "class Animal(ABC):\n",
        "  def eat(self):\n",
        "    pass\n",
        "class Tiger(Animal):\n",
        "  def eat(self):\n",
        "    print(\"Carnivore\")\n",
        "class Cow(Animal):\n",
        "  def eat(self):\n",
        "    print(\"Herbivore\")\n",
        "t=Tiger()\n",
        "t.eat()\n",
        "c=Cow()\n",
        "c.eat()"
      ],
      "execution_count": null,
      "outputs": [
        {
          "output_type": "stream",
          "text": [
            "STATIC AND INSTANCE METHODS\n",
            "Area of Rectangle =  56\n",
            "Area of Square =  16\n",
            "Area of Circle =  200.96\n",
            "___________________\n",
            "ABSTRACT CLASS\n",
            "Carnivore\n",
            "Herbivore\n"
          ],
          "name": "stdout"
        }
      ]
    },
    {
      "cell_type": "markdown",
      "metadata": {
        "id": "qaAMRilMUD5H"
      },
      "source": [
        "## **3. Write a program to compute distance between two points taking input from the user** \n",
        "(Pythagorean Theorem)"
      ]
    },
    {
      "cell_type": "code",
      "metadata": {
        "id": "Upx239RHxb58",
        "colab": {
          "base_uri": "https://localhost:8080/"
        },
        "outputId": "302196ac-734a-4caa-f870-c46f9c989920"
      },
      "source": [
        "import math\n",
        "input1 = int (input('Enter a first number :'))\n",
        "input2 = int (input('Enter a second number :'))\n",
        "distance = input1**2 + input2**2\n",
        "print(distance)\n",
        "math.sqrt(distance)"
      ],
      "execution_count": null,
      "outputs": [
        {
          "output_type": "stream",
          "text": [
            "Enter a first number :3\n",
            "Enter a second number :4\n",
            "25\n"
          ],
          "name": "stdout"
        },
        {
          "output_type": "execute_result",
          "data": {
            "text/plain": [
              "5.0"
            ]
          },
          "metadata": {
            "tags": []
          },
          "execution_count": 18
        }
      ]
    },
    {
      "cell_type": "markdown",
      "metadata": {
        "id": "OD0qLrT02P6M"
      },
      "source": [
        ""
      ]
    },
    {
      "cell_type": "markdown",
      "metadata": {
        "id": "nTAI5ch6UD2l"
      },
      "source": [
        "# Exercise 4"
      ]
    },
    {
      "cell_type": "markdown",
      "metadata": {
        "id": "q71ipaS2UDz7"
      },
      "source": [
        "## **1. Write a program to implement Inheritance and Polymorphism**"
      ]
    },
    {
      "cell_type": "markdown",
      "metadata": {
        "id": "qDzEibi6JTRW"
      },
      "source": [
        "### Inheritence in python"
      ]
    },
    {
      "cell_type": "code",
      "metadata": {
        "colab": {
          "base_uri": "https://localhost:8080/"
        },
        "id": "ck7jfTRtzQiS",
        "outputId": "784cd1ba-68d0-43eb-b1b9-fdc231901d24"
      },
      "source": [
        "class Person(object):\n",
        "    def __init__(self, name):\n",
        "        self.name = name\n",
        "\n",
        "    def get_name_of_the_person(self):\n",
        "        return self.name\n",
        "\n",
        "    def is_Employee(self):\n",
        "        return False\n",
        "   \n",
        "# Subclass.\n",
        "class Employee(Person):\n",
        "   \n",
        "    # Here we return true\n",
        "    def is_Employee(self):\n",
        "        return True\n",
        "   \n",
        "# Driver code\n",
        "emp = Person(\"Supreeth\")\n",
        "print(emp.get_name_of_the_person(), emp.is_Employee())\n",
        "   \n",
        "emp = Employee(\"Mr.So4\") # An Object of Employee\n",
        "print(emp.get_name_of_the_person(), emp.is_Employee())"
      ],
      "execution_count": null,
      "outputs": [
        {
          "output_type": "stream",
          "text": [
            "Supreeth False\n",
            "Mr.So4 True\n"
          ],
          "name": "stdout"
        }
      ]
    },
    {
      "cell_type": "markdown",
      "metadata": {
        "id": "F0BJAc3hN1hx"
      },
      "source": [
        "### Polymorphism "
      ]
    },
    {
      "cell_type": "code",
      "metadata": {
        "colab": {
          "base_uri": "https://localhost:8080/"
        },
        "id": "HfsV5D9tN9dp",
        "outputId": "8c8a92e3-e32a-4d23-e9dc-4f1ca1a0f9ee"
      },
      "source": [
        "class Student():\n",
        "    def name(self):\n",
        "        print(\"Name of the student is xyz.\")\n",
        "  \n",
        "    def language(self):\n",
        "        print(\"He speaks English and Telugu.\")\n",
        "  \n",
        "    def type(self):\n",
        "        print(\"He is one of the average students in his class.\")\n",
        "\n",
        "class Faculty():\n",
        "    def name(self):\n",
        "        print()\n",
        "        print(\"Name of the faculty is XYZ.\")\n",
        "  \n",
        "    def language(self):\n",
        "        print(\"He speaks English. \")\n",
        "  \n",
        "    def type(self):\n",
        "        print(\"He is one of the best faculty in his department.\")\n",
        "  \n",
        "obj_student = Student()\n",
        "obj_faculty = Faculty()\n",
        "for elements in (obj_student, obj_faculty):\n",
        "    elements.name()\n",
        "    elements.language()\n",
        "    elements.type()"
      ],
      "execution_count": null,
      "outputs": [
        {
          "output_type": "stream",
          "text": [
            "Name of the student is xyz.\n",
            "He speaks English and Telugu.\n",
            "He is one of the average students in his class.\n",
            "\n",
            "Name of the faculty is XYZ.\n",
            "He speaks English. \n",
            "He is one of the best faculty in his department.\n"
          ],
          "name": "stdout"
        }
      ]
    },
    {
      "cell_type": "markdown",
      "metadata": {
        "id": "vW-h2vX_UDxQ"
      },
      "source": [
        "## **2. Write a program to implement Files.**"
      ]
    },
    {
      "cell_type": "markdown",
      "metadata": {
        "id": "a3jgjyIY5l31"
      },
      "source": [
        "### Writing a file"
      ]
    },
    {
      "cell_type": "code",
      "metadata": {
        "id": "Ddxu9e6E5onv"
      },
      "source": [
        "# Writing a file.\n",
        "\n",
        "file_object = open('1st_file.txt',\"w+\")\n",
        "for i in range(4):\n",
        "  file_object.write(\"This is Supreeth.\\n\")\n",
        "file_object.close()\n"
      ],
      "execution_count": null,
      "outputs": []
    },
    {
      "cell_type": "markdown",
      "metadata": {
        "id": "ginKqbPL5qzO"
      },
      "source": [
        "### Reading the file."
      ]
    },
    {
      "cell_type": "code",
      "metadata": {
        "colab": {
          "base_uri": "https://localhost:8080/"
        },
        "id": "sgtbvp_E5tmc",
        "outputId": "c273d19d-361c-4799-817b-75a384a36b8e"
      },
      "source": [
        "# Reading the file.\n",
        "file_object = open ('1st_file.txt',\"r\")\n",
        "if file_object.mode == 'r':\n",
        "  words = file_object.read()\n",
        "print(words)"
      ],
      "execution_count": null,
      "outputs": [
        {
          "output_type": "stream",
          "text": [
            "This is Supreeth.\n",
            "This is Supreeth.\n",
            "This is Supreeth.\n",
            "This is Supreeth.\n",
            "\n"
          ],
          "name": "stdout"
        }
      ]
    },
    {
      "cell_type": "markdown",
      "metadata": {
        "id": "7NC4wJNv50Ip"
      },
      "source": [
        "### Appending a file and reading it after apeending."
      ]
    },
    {
      "cell_type": "code",
      "metadata": {
        "colab": {
          "base_uri": "https://localhost:8080/"
        },
        "id": "O04JLH6ezRxs",
        "outputId": "e2c51b9e-625b-454a-bfca-2f6939c9d3e1"
      },
      "source": [
        "# Appending a file\n",
        "\n",
        "file_object = open('1st_file.txt',\"a+\")\n",
        "for i in range(0,4,2):\n",
        "     file_object.write(\"This is Mr.So4\\n\")\n",
        "file_object.close()\n",
        "# Reading after appending.\n",
        "file_object = open('1st_file.txt',\"r\")\n",
        "\n",
        "if file_object.mode == \"r\":\n",
        "  contents = file_object.read()\n",
        "print(contents)"
      ],
      "execution_count": null,
      "outputs": [
        {
          "output_type": "stream",
          "text": [
            "This is Supreeth.\n",
            "This is Supreeth.\n",
            "This is Supreeth.\n",
            "This is Supreeth.\n",
            "This is Mr.So4\n",
            "This is Mr.So4\n",
            "This is Mr.So4\n",
            "This is Mr.So4\n",
            "\n"
          ],
          "name": "stdout"
        }
      ]
    },
    {
      "cell_type": "markdown",
      "metadata": {
        "id": "tOxg5ptTUDlC"
      },
      "source": [
        "## **3. Write a program to illustrate Handling.**"
      ]
    },
    {
      "cell_type": "markdown",
      "metadata": {
        "id": "IlfLNBY-7mMM"
      },
      "source": [
        "### Zero division error."
      ]
    },
    {
      "cell_type": "code",
      "metadata": {
        "colab": {
          "base_uri": "https://localhost:8080/"
        },
        "id": "uOIxv3BB7sSQ",
        "outputId": "e6a09a40-09a1-44f2-a03c-476a403b5260"
      },
      "source": [
        "var1 = int (input('Enter a number from (0-9) :'))\n",
        "var2 = int (input('Enter a number from (0-9) :'))\n",
        "\n",
        "try :\n",
        "  division = var1/var2\n",
        "  print('The divsion of two variables {} and {} is {}'.format(var1,var2,division))\n",
        "\n",
        "except (ZeroDivisionError):\n",
        "  print('Cant divide the {} and {}'.format(var1,var2))"
      ],
      "execution_count": null,
      "outputs": [
        {
          "output_type": "stream",
          "text": [
            "Enter a number from (0-9) :9\n",
            "Enter a number from (0-9) :0\n",
            "Cant divide the 9 and 0\n"
          ],
          "name": "stdout"
        }
      ]
    },
    {
      "cell_type": "markdown",
      "metadata": {
        "id": "yMfjNWjQ8bX1"
      },
      "source": [
        "### Index error"
      ]
    },
    {
      "cell_type": "code",
      "metadata": {
        "id": "cQJJ7TmLUDXK",
        "colab": {
          "base_uri": "https://localhost:8080/"
        },
        "outputId": "b73496cd-5fdb-44ca-a6b1-bfc5f4440bce"
      },
      "source": [
        "lst = [2,4,6,8,12,32,441,100]\n",
        "print('Total no of elements in the list are : ',len(lst))\n",
        "i = int(input('Enter an index number below {} : '.format(len(lst))))\n",
        "try:\n",
        "  lst[i]\n",
        "  print('The value at {} location is {}'.format(i,lst[i]))\n",
        "except IndexError:\n",
        "  print('Element cannot be found !!')"
      ],
      "execution_count": null,
      "outputs": [
        {
          "output_type": "stream",
          "text": [
            "Total no of elements in the list are :  8\n",
            "Enter an index number below 8 : 9\n",
            "Element cannot be found !!\n"
          ],
          "name": "stdout"
        }
      ]
    },
    {
      "cell_type": "markdown",
      "metadata": {
        "id": "oT3gGI3hVtsJ"
      },
      "source": [
        "# Exercise 5"
      ]
    },
    {
      "cell_type": "markdown",
      "metadata": {
        "id": "Lb9SZH1uVtmg"
      },
      "source": [
        "## **1. Write a program using scikit-learn to implement K-means Clustering**"
      ]
    },
    {
      "cell_type": "code",
      "metadata": {
        "id": "f3MycSMPSib6"
      },
      "source": [
        "import numpy as np\n",
        "import pandas as pd\n",
        "import matplotlib.pyplot as plt\n",
        "from sklearn.preprocessing import MinMaxScaler\n",
        "from sklearn.cluster import KMeans"
      ],
      "execution_count": null,
      "outputs": []
    },
    {
      "cell_type": "code",
      "metadata": {
        "colab": {
          "base_uri": "https://localhost:8080/",
          "height": 203
        },
        "id": "ntqdgUlHUWMT",
        "outputId": "ae15d5b7-8ee2-466e-da2a-86886cc7a397"
      },
      "source": [
        "data_frame = pd.read_csv('/content/dunya.csv')\n",
        "data_frame.head()"
      ],
      "execution_count": null,
      "outputs": [
        {
          "output_type": "execute_result",
          "data": {
            "text/html": [
              "<div>\n",
              "<style scoped>\n",
              "    .dataframe tbody tr th:only-of-type {\n",
              "        vertical-align: middle;\n",
              "    }\n",
              "\n",
              "    .dataframe tbody tr th {\n",
              "        vertical-align: top;\n",
              "    }\n",
              "\n",
              "    .dataframe thead th {\n",
              "        text-align: right;\n",
              "    }\n",
              "</style>\n",
              "<table border=\"1\" class=\"dataframe\">\n",
              "  <thead>\n",
              "    <tr style=\"text-align: right;\">\n",
              "      <th></th>\n",
              "      <th>Country</th>\n",
              "      <th>Revenue</th>\n",
              "      <th>Nüfus</th>\n",
              "      <th>Per person</th>\n",
              "      <th>Continent</th>\n",
              "    </tr>\n",
              "  </thead>\n",
              "  <tbody>\n",
              "    <tr>\n",
              "      <th>0</th>\n",
              "      <td>USA</td>\n",
              "      <td>20410000</td>\n",
              "      <td>323766</td>\n",
              "      <td>63039</td>\n",
              "      <td>North America</td>\n",
              "    </tr>\n",
              "    <tr>\n",
              "      <th>1</th>\n",
              "      <td>China</td>\n",
              "      <td>14090000</td>\n",
              "      <td>1415045</td>\n",
              "      <td>9957</td>\n",
              "      <td>Asia</td>\n",
              "    </tr>\n",
              "    <tr>\n",
              "      <th>2</th>\n",
              "      <td>Japan</td>\n",
              "      <td>5170000</td>\n",
              "      <td>127185</td>\n",
              "      <td>40649</td>\n",
              "      <td>Asia</td>\n",
              "    </tr>\n",
              "    <tr>\n",
              "      <th>3</th>\n",
              "      <td>Germany</td>\n",
              "      <td>4210000</td>\n",
              "      <td>82293</td>\n",
              "      <td>51158</td>\n",
              "      <td>Europe</td>\n",
              "    </tr>\n",
              "    <tr>\n",
              "      <th>4</th>\n",
              "      <td>England</td>\n",
              "      <td>2940000</td>\n",
              "      <td>66573</td>\n",
              "      <td>44162</td>\n",
              "      <td>Europe</td>\n",
              "    </tr>\n",
              "  </tbody>\n",
              "</table>\n",
              "</div>"
            ],
            "text/plain": [
              "   Country   Revenue    Nüfus  Per person      Continent\n",
              "0      USA  20410000   323766       63039  North America\n",
              "1    China  14090000  1415045        9957           Asia\n",
              "2    Japan   5170000   127185       40649           Asia\n",
              "3  Germany   4210000    82293       51158         Europe\n",
              "4  England   2940000    66573       44162         Europe"
            ]
          },
          "metadata": {
            "tags": []
          },
          "execution_count": 65
        }
      ]
    },
    {
      "cell_type": "code",
      "metadata": {
        "colab": {
          "base_uri": "https://localhost:8080/",
          "height": 296
        },
        "id": "U31-ePgCUduy",
        "outputId": "34cad406-7b35-41dd-be68-e69a25a0d4a1"
      },
      "source": [
        "plt.scatter(data_frame.Revenue,data_frame['Per person'])\n",
        "plt.xlabel('Revenue')\n",
        "plt.ylabel('Per Person')"
      ],
      "execution_count": null,
      "outputs": [
        {
          "output_type": "execute_result",
          "data": {
            "text/plain": [
              "Text(0, 0.5, 'Per Person')"
            ]
          },
          "metadata": {
            "tags": []
          },
          "execution_count": 74
        },
        {
          "output_type": "display_data",
          "data": {
            "image/png": "[encoded data removed]",
            "text/plain": [
              "<Figure size 432x288 with 1 Axes>"
            ]
          },
          "metadata": {
            "tags": [],
            "needs_background": "light"
          }
        }
      ]
    },
    {
      "cell_type": "code",
      "metadata": {
        "colab": {
          "base_uri": "https://localhost:8080/"
        },
        "id": "m4A3bgKKVflk",
        "outputId": "51c874d1-d389-4beb-f03e-16f770ed1dfb"
      },
      "source": [
        "k_means = KMeans(n_clusters=4)\n",
        "k_means"
      ],
      "execution_count": null,
      "outputs": [
        {
          "output_type": "execute_result",
          "data": {
            "text/plain": [
              "KMeans(algorithm='auto', copy_x=True, init='k-means++', max_iter=300,\n",
              "       n_clusters=4, n_init=10, n_jobs=None, precompute_distances='auto',\n",
              "       random_state=None, tol=0.0001, verbose=0)"
            ]
          },
          "metadata": {
            "tags": []
          },
          "execution_count": 71
        }
      ]
    },
    {
      "cell_type": "code",
      "metadata": {
        "colab": {
          "base_uri": "https://localhost:8080/"
        },
        "id": "0rpZsAkhVo9S",
        "outputId": "66e7d459-e6f0-4342-90ed-976b56d23ad6"
      },
      "source": [
        "predict = k_means.fit_predict(data_frame[['Revenue','Per person']])\n",
        "predict"
      ],
      "execution_count": null,
      "outputs": [
        {
          "output_type": "execute_result",
          "data": {
            "text/plain": [
              "array([2, 1, 3, 3, 3, 3, 3, 0, 0, 0, 0, 0, 0, 0, 0, 0, 0, 0, 0, 0],\n",
              "      dtype=int32)"
            ]
          },
          "metadata": {
            "tags": []
          },
          "execution_count": 75
        }
      ]
    },
    {
      "cell_type": "code",
      "metadata": {
        "colab": {
          "base_uri": "https://localhost:8080/",
          "height": 665
        },
        "id": "1NDgHH28Vo8E",
        "outputId": "3daa6a91-e467-4f33-a3e9-111753d8c700"
      },
      "source": [
        "data_frame['Cluster Number '] = predict\n",
        "data_frame"
      ],
      "execution_count": null,
      "outputs": [
        {
          "output_type": "execute_result",
          "data": {
            "text/html": [
              "<div>\n",
              "<style scoped>\n",
              "    .dataframe tbody tr th:only-of-type {\n",
              "        vertical-align: middle;\n",
              "    }\n",
              "\n",
              "    .dataframe tbody tr th {\n",
              "        vertical-align: top;\n",
              "    }\n",
              "\n",
              "    .dataframe thead th {\n",
              "        text-align: right;\n",
              "    }\n",
              "</style>\n",
              "<table border=\"1\" class=\"dataframe\">\n",
              "  <thead>\n",
              "    <tr style=\"text-align: right;\">\n",
              "      <th></th>\n",
              "      <th>Country</th>\n",
              "      <th>Revenue</th>\n",
              "      <th>Nüfus</th>\n",
              "      <th>Per person</th>\n",
              "      <th>Continent</th>\n",
              "      <th>Cluster Number</th>\n",
              "    </tr>\n",
              "  </thead>\n",
              "  <tbody>\n",
              "    <tr>\n",
              "      <th>0</th>\n",
              "      <td>USA</td>\n",
              "      <td>20410000</td>\n",
              "      <td>323766</td>\n",
              "      <td>63039</td>\n",
              "      <td>North America</td>\n",
              "      <td>2</td>\n",
              "    </tr>\n",
              "    <tr>\n",
              "      <th>1</th>\n",
              "      <td>China</td>\n",
              "      <td>14090000</td>\n",
              "      <td>1415045</td>\n",
              "      <td>9957</td>\n",
              "      <td>Asia</td>\n",
              "      <td>1</td>\n",
              "    </tr>\n",
              "    <tr>\n",
              "      <th>2</th>\n",
              "      <td>Japan</td>\n",
              "      <td>5170000</td>\n",
              "      <td>127185</td>\n",
              "      <td>40649</td>\n",
              "      <td>Asia</td>\n",
              "      <td>3</td>\n",
              "    </tr>\n",
              "    <tr>\n",
              "      <th>3</th>\n",
              "      <td>Germany</td>\n",
              "      <td>4210000</td>\n",
              "      <td>82293</td>\n",
              "      <td>51158</td>\n",
              "      <td>Europe</td>\n",
              "      <td>3</td>\n",
              "    </tr>\n",
              "    <tr>\n",
              "      <th>4</th>\n",
              "      <td>England</td>\n",
              "      <td>2940000</td>\n",
              "      <td>66573</td>\n",
              "      <td>44162</td>\n",
              "      <td>Europe</td>\n",
              "      <td>3</td>\n",
              "    </tr>\n",
              "    <tr>\n",
              "      <th>5</th>\n",
              "      <td>France</td>\n",
              "      <td>2930000</td>\n",
              "      <td>65233</td>\n",
              "      <td>44915</td>\n",
              "      <td>Europe</td>\n",
              "      <td>3</td>\n",
              "    </tr>\n",
              "    <tr>\n",
              "      <th>6</th>\n",
              "      <td>India</td>\n",
              "      <td>2850000</td>\n",
              "      <td>1354051</td>\n",
              "      <td>2104</td>\n",
              "      <td>Asia</td>\n",
              "      <td>3</td>\n",
              "    </tr>\n",
              "    <tr>\n",
              "      <th>7</th>\n",
              "      <td>Italy</td>\n",
              "      <td>2180000</td>\n",
              "      <td>62273</td>\n",
              "      <td>36768</td>\n",
              "      <td>Europe</td>\n",
              "      <td>0</td>\n",
              "    </tr>\n",
              "    <tr>\n",
              "      <th>8</th>\n",
              "      <td>Brazil</td>\n",
              "      <td>2140000</td>\n",
              "      <td>210867</td>\n",
              "      <td>10148</td>\n",
              "      <td>South America</td>\n",
              "      <td>0</td>\n",
              "    </tr>\n",
              "    <tr>\n",
              "      <th>9</th>\n",
              "      <td>Canada</td>\n",
              "      <td>1800000</td>\n",
              "      <td>36953</td>\n",
              "      <td>48710</td>\n",
              "      <td>North America</td>\n",
              "      <td>0</td>\n",
              "    </tr>\n",
              "    <tr>\n",
              "      <th>10</th>\n",
              "      <td>Russia</td>\n",
              "      <td>1720000</td>\n",
              "      <td>143967</td>\n",
              "      <td>11947</td>\n",
              "      <td>Europe</td>\n",
              "      <td>0</td>\n",
              "    </tr>\n",
              "    <tr>\n",
              "      <th>11</th>\n",
              "      <td>South Korea</td>\n",
              "      <td>1690000</td>\n",
              "      <td>51164</td>\n",
              "      <td>33031</td>\n",
              "      <td>Asia</td>\n",
              "      <td>0</td>\n",
              "    </tr>\n",
              "    <tr>\n",
              "      <th>12</th>\n",
              "      <td>Spain</td>\n",
              "      <td>1510000</td>\n",
              "      <td>46397</td>\n",
              "      <td>32545</td>\n",
              "      <td>Europe</td>\n",
              "      <td>0</td>\n",
              "    </tr>\n",
              "    <tr>\n",
              "      <th>13</th>\n",
              "      <td>Australia</td>\n",
              "      <td>1500000</td>\n",
              "      <td>24772</td>\n",
              "      <td>60552</td>\n",
              "      <td>Oceania</td>\n",
              "      <td>0</td>\n",
              "    </tr>\n",
              "    <tr>\n",
              "      <th>14</th>\n",
              "      <td>Mexican</td>\n",
              "      <td>1210000</td>\n",
              "      <td>130759</td>\n",
              "      <td>9253</td>\n",
              "      <td>North America</td>\n",
              "      <td>0</td>\n",
              "    </tr>\n",
              "    <tr>\n",
              "      <th>15</th>\n",
              "      <td>Indonesia</td>\n",
              "      <td>1070000</td>\n",
              "      <td>266794</td>\n",
              "      <td>4010</td>\n",
              "      <td>Asia</td>\n",
              "      <td>0</td>\n",
              "    </tr>\n",
              "    <tr>\n",
              "      <th>16</th>\n",
              "      <td>Netherlands</td>\n",
              "      <td>945000</td>\n",
              "      <td>17084</td>\n",
              "      <td>55314</td>\n",
              "      <td>Europe</td>\n",
              "      <td>0</td>\n",
              "    </tr>\n",
              "    <tr>\n",
              "      <th>17</th>\n",
              "      <td>Turkey</td>\n",
              "      <td>910000</td>\n",
              "      <td>81916</td>\n",
              "      <td>11108</td>\n",
              "      <td>Asia</td>\n",
              "      <td>0</td>\n",
              "    </tr>\n",
              "    <tr>\n",
              "      <th>18</th>\n",
              "      <td>Saudi Arabia</td>\n",
              "      <td>748000</td>\n",
              "      <td>33554</td>\n",
              "      <td>22292</td>\n",
              "      <td>Asia</td>\n",
              "      <td>0</td>\n",
              "    </tr>\n",
              "    <tr>\n",
              "      <th>19</th>\n",
              "      <td>Switzerland</td>\n",
              "      <td>741000</td>\n",
              "      <td>8554</td>\n",
              "      <td>86626</td>\n",
              "      <td>Europe</td>\n",
              "      <td>0</td>\n",
              "    </tr>\n",
              "  </tbody>\n",
              "</table>\n",
              "</div>"
            ],
            "text/plain": [
              "         Country   Revenue    Nüfus  Per person      Continent  Cluster Number \n",
              "0            USA  20410000   323766       63039  North America                2\n",
              "1          China  14090000  1415045        9957           Asia                1\n",
              "2          Japan   5170000   127185       40649           Asia                3\n",
              "3        Germany   4210000    82293       51158         Europe                3\n",
              "4        England   2940000    66573       44162         Europe                3\n",
              "5         France   2930000    65233       44915         Europe                3\n",
              "6          India   2850000  1354051        2104           Asia                3\n",
              "7          Italy   2180000    62273       36768         Europe                0\n",
              "8         Brazil   2140000   210867       10148  South America                0\n",
              "9         Canada   1800000    36953       48710  North America                0\n",
              "10        Russia   1720000   143967       11947         Europe                0\n",
              "11   South Korea   1690000    51164       33031           Asia                0\n",
              "12         Spain   1510000    46397       32545         Europe                0\n",
              "13     Australia   1500000    24772       60552        Oceania                0\n",
              "14       Mexican   1210000   130759        9253  North America                0\n",
              "15     Indonesia   1070000   266794        4010           Asia                0\n",
              "16   Netherlands    945000    17084       55314         Europe                0\n",
              "17        Turkey    910000    81916       11108           Asia                0\n",
              "18  Saudi Arabia    748000    33554       22292           Asia                0\n",
              "19   Switzerland    741000     8554       86626         Europe                0"
            ]
          },
          "metadata": {
            "tags": []
          },
          "execution_count": 80
        }
      ]
    },
    {
      "cell_type": "code",
      "metadata": {
        "colab": {
          "base_uri": "https://localhost:8080/",
          "height": 313
        },
        "id": "Adcfa41wVo2B",
        "outputId": "a282c849-01df-4252-f2fb-94045c351217"
      },
      "source": [
        "data_frame1 = data_frame[data_frame['Cluster Number '] ==0]\n",
        "data_frame2 = data_frame[data_frame['Cluster Number '] ==1]\n",
        "data_frame3 = data_frame[data_frame['Cluster Number '] ==2]\n",
        "data_frame4 = data_frame[data_frame['Cluster Number '] ==3]\n",
        "plt.scatter(data_frame1['Revenue'],data_frame1['Per person'],color='green')\n",
        "plt.scatter(data_frame2['Revenue'],data_frame2['Per person'],color='red')\n",
        "plt.scatter(data_frame3['Revenue'],data_frame3['Per person'],color='black')\n",
        "plt.scatter(data_frame4['Revenue'],data_frame4['Per person'],color = 'orange')\n",
        "plt.xlabel('Revenue')\n",
        "plt.ylabel('Per Person')\n",
        "plt.legend()"
      ],
      "execution_count": null,
      "outputs": [
        {
          "output_type": "stream",
          "text": [
            "No handles with labels found to put in legend.\n"
          ],
          "name": "stderr"
        },
        {
          "output_type": "execute_result",
          "data": {
            "text/plain": [
              "<matplotlib.legend.Legend at 0x7f720deeaf90>"
            ]
          },
          "metadata": {
            "tags": []
          },
          "execution_count": 81
        },
        {
          "output_type": "display_data",
          "data": {
            "image/png": "[encoded data removed]",
            "text/plain": [
              "<Figure size 432x288 with 1 Axes>"
            ]
          },
          "metadata": {
            "tags": [],
            "needs_background": "light"
          }
        }
      ]
    },
    {
      "cell_type": "code",
      "metadata": {
        "colab": {
          "base_uri": "https://localhost:8080/",
          "height": 665
        },
        "id": "2b5sKP1xVozQ",
        "outputId": "f6246053-b9cd-4690-89da-4260f99b0567"
      },
      "source": [
        "scaler = MinMaxScaler()\n",
        "scaler.fit(data_frame[['Per person']])\n",
        "data_frame['Per person'] = scaler.transform(data_frame[['Per person']])\n",
        "scaler.fit(data_frame[['Revenue']])\n",
        "data_frame['Revenue'] = scaler.transform(data_frame[['Revenue']])\n",
        "data_frame"
      ],
      "execution_count": null,
      "outputs": [
        {
          "output_type": "execute_result",
          "data": {
            "text/html": [
              "<div>\n",
              "<style scoped>\n",
              "    .dataframe tbody tr th:only-of-type {\n",
              "        vertical-align: middle;\n",
              "    }\n",
              "\n",
              "    .dataframe tbody tr th {\n",
              "        vertical-align: top;\n",
              "    }\n",
              "\n",
              "    .dataframe thead th {\n",
              "        text-align: right;\n",
              "    }\n",
              "</style>\n",
              "<table border=\"1\" class=\"dataframe\">\n",
              "  <thead>\n",
              "    <tr style=\"text-align: right;\">\n",
              "      <th></th>\n",
              "      <th>Country</th>\n",
              "      <th>Revenue</th>\n",
              "      <th>Nüfus</th>\n",
              "      <th>Per person</th>\n",
              "      <th>Continent</th>\n",
              "      <th>Cluster Number</th>\n",
              "    </tr>\n",
              "  </thead>\n",
              "  <tbody>\n",
              "    <tr>\n",
              "      <th>0</th>\n",
              "      <td>USA</td>\n",
              "      <td>1.000000</td>\n",
              "      <td>323766</td>\n",
              "      <td>0.720937</td>\n",
              "      <td>North America</td>\n",
              "      <td>2</td>\n",
              "    </tr>\n",
              "    <tr>\n",
              "      <th>1</th>\n",
              "      <td>China</td>\n",
              "      <td>0.678682</td>\n",
              "      <td>1415045</td>\n",
              "      <td>0.092911</td>\n",
              "      <td>Asia</td>\n",
              "      <td>1</td>\n",
              "    </tr>\n",
              "    <tr>\n",
              "      <th>2</th>\n",
              "      <td>Japan</td>\n",
              "      <td>0.225177</td>\n",
              "      <td>127185</td>\n",
              "      <td>0.456035</td>\n",
              "      <td>Asia</td>\n",
              "      <td>3</td>\n",
              "    </tr>\n",
              "    <tr>\n",
              "      <th>3</th>\n",
              "      <td>Germany</td>\n",
              "      <td>0.176369</td>\n",
              "      <td>82293</td>\n",
              "      <td>0.580370</td>\n",
              "      <td>Europe</td>\n",
              "      <td>3</td>\n",
              "    </tr>\n",
              "    <tr>\n",
              "      <th>4</th>\n",
              "      <td>England</td>\n",
              "      <td>0.111800</td>\n",
              "      <td>66573</td>\n",
              "      <td>0.497598</td>\n",
              "      <td>Europe</td>\n",
              "      <td>3</td>\n",
              "    </tr>\n",
              "    <tr>\n",
              "      <th>5</th>\n",
              "      <td>France</td>\n",
              "      <td>0.111292</td>\n",
              "      <td>65233</td>\n",
              "      <td>0.506507</td>\n",
              "      <td>Europe</td>\n",
              "      <td>3</td>\n",
              "    </tr>\n",
              "    <tr>\n",
              "      <th>6</th>\n",
              "      <td>India</td>\n",
              "      <td>0.107225</td>\n",
              "      <td>1354051</td>\n",
              "      <td>0.000000</td>\n",
              "      <td>Asia</td>\n",
              "      <td>3</td>\n",
              "    </tr>\n",
              "    <tr>\n",
              "      <th>7</th>\n",
              "      <td>Italy</td>\n",
              "      <td>0.073161</td>\n",
              "      <td>62273</td>\n",
              "      <td>0.410118</td>\n",
              "      <td>Europe</td>\n",
              "      <td>0</td>\n",
              "    </tr>\n",
              "    <tr>\n",
              "      <th>8</th>\n",
              "      <td>Brazil</td>\n",
              "      <td>0.071127</td>\n",
              "      <td>210867</td>\n",
              "      <td>0.095170</td>\n",
              "      <td>South America</td>\n",
              "      <td>0</td>\n",
              "    </tr>\n",
              "    <tr>\n",
              "      <th>9</th>\n",
              "      <td>Canada</td>\n",
              "      <td>0.053841</td>\n",
              "      <td>36953</td>\n",
              "      <td>0.551407</td>\n",
              "      <td>North America</td>\n",
              "      <td>0</td>\n",
              "    </tr>\n",
              "    <tr>\n",
              "      <th>10</th>\n",
              "      <td>Russia</td>\n",
              "      <td>0.049774</td>\n",
              "      <td>143967</td>\n",
              "      <td>0.116455</td>\n",
              "      <td>Europe</td>\n",
              "      <td>0</td>\n",
              "    </tr>\n",
              "    <tr>\n",
              "      <th>11</th>\n",
              "      <td>South Korea</td>\n",
              "      <td>0.048249</td>\n",
              "      <td>51164</td>\n",
              "      <td>0.365905</td>\n",
              "      <td>Asia</td>\n",
              "      <td>0</td>\n",
              "    </tr>\n",
              "    <tr>\n",
              "      <th>12</th>\n",
              "      <td>Spain</td>\n",
              "      <td>0.039097</td>\n",
              "      <td>46397</td>\n",
              "      <td>0.360155</td>\n",
              "      <td>Europe</td>\n",
              "      <td>0</td>\n",
              "    </tr>\n",
              "    <tr>\n",
              "      <th>13</th>\n",
              "      <td>Australia</td>\n",
              "      <td>0.038589</td>\n",
              "      <td>24772</td>\n",
              "      <td>0.691512</td>\n",
              "      <td>Oceania</td>\n",
              "      <td>0</td>\n",
              "    </tr>\n",
              "    <tr>\n",
              "      <th>14</th>\n",
              "      <td>Mexican</td>\n",
              "      <td>0.023845</td>\n",
              "      <td>130759</td>\n",
              "      <td>0.084582</td>\n",
              "      <td>North America</td>\n",
              "      <td>0</td>\n",
              "    </tr>\n",
              "    <tr>\n",
              "      <th>15</th>\n",
              "      <td>Indonesia</td>\n",
              "      <td>0.016727</td>\n",
              "      <td>266794</td>\n",
              "      <td>0.022550</td>\n",
              "      <td>Asia</td>\n",
              "      <td>0</td>\n",
              "    </tr>\n",
              "    <tr>\n",
              "      <th>16</th>\n",
              "      <td>Netherlands</td>\n",
              "      <td>0.010372</td>\n",
              "      <td>17084</td>\n",
              "      <td>0.629540</td>\n",
              "      <td>Europe</td>\n",
              "      <td>0</td>\n",
              "    </tr>\n",
              "    <tr>\n",
              "      <th>17</th>\n",
              "      <td>Turkey</td>\n",
              "      <td>0.008592</td>\n",
              "      <td>81916</td>\n",
              "      <td>0.106528</td>\n",
              "      <td>Asia</td>\n",
              "      <td>0</td>\n",
              "    </tr>\n",
              "    <tr>\n",
              "      <th>18</th>\n",
              "      <td>Saudi Arabia</td>\n",
              "      <td>0.000356</td>\n",
              "      <td>33554</td>\n",
              "      <td>0.238849</td>\n",
              "      <td>Asia</td>\n",
              "      <td>0</td>\n",
              "    </tr>\n",
              "    <tr>\n",
              "      <th>19</th>\n",
              "      <td>Switzerland</td>\n",
              "      <td>0.000000</td>\n",
              "      <td>8554</td>\n",
              "      <td>1.000000</td>\n",
              "      <td>Europe</td>\n",
              "      <td>0</td>\n",
              "    </tr>\n",
              "  </tbody>\n",
              "</table>\n",
              "</div>"
            ],
            "text/plain": [
              "         Country   Revenue    Nüfus  Per person      Continent  Cluster Number \n",
              "0            USA  1.000000   323766    0.720937  North America                2\n",
              "1          China  0.678682  1415045    0.092911           Asia                1\n",
              "2          Japan  0.225177   127185    0.456035           Asia                3\n",
              "3        Germany  0.176369    82293    0.580370         Europe                3\n",
              "4        England  0.111800    66573    0.497598         Europe                3\n",
              "5         France  0.111292    65233    0.506507         Europe                3\n",
              "6          India  0.107225  1354051    0.000000           Asia                3\n",
              "7          Italy  0.073161    62273    0.410118         Europe                0\n",
              "8         Brazil  0.071127   210867    0.095170  South America                0\n",
              "9         Canada  0.053841    36953    0.551407  North America                0\n",
              "10        Russia  0.049774   143967    0.116455         Europe                0\n",
              "11   South Korea  0.048249    51164    0.365905           Asia                0\n",
              "12         Spain  0.039097    46397    0.360155         Europe                0\n",
              "13     Australia  0.038589    24772    0.691512        Oceania                0\n",
              "14       Mexican  0.023845   130759    0.084582  North America                0\n",
              "15     Indonesia  0.016727   266794    0.022550           Asia                0\n",
              "16   Netherlands  0.010372    17084    0.629540         Europe                0\n",
              "17        Turkey  0.008592    81916    0.106528           Asia                0\n",
              "18  Saudi Arabia  0.000356    33554    0.238849           Asia                0\n",
              "19   Switzerland  0.000000     8554    1.000000         Europe                0"
            ]
          },
          "metadata": {
            "tags": []
          },
          "execution_count": 83
        }
      ]
    },
    {
      "cell_type": "code",
      "metadata": {
        "colab": {
          "base_uri": "https://localhost:8080/"
        },
        "id": "__a8gVrTm_db",
        "outputId": "84990e10-8f0f-44bf-f4a5-a5c370d0b859"
      },
      "source": [
        "\n",
        "k_means = KMeans(n_clusters=4)\n",
        "predict = k_means.fit_predict(data_frame[['Revenue','Per person']])\n",
        "predict"
      ],
      "execution_count": null,
      "outputs": [
        {
          "output_type": "execute_result",
          "data": {
            "text/plain": [
              "array([2, 3, 1, 1, 1, 1, 0, 1, 0, 1, 0, 1, 1, 1, 0, 0, 1, 0, 0, 1],\n",
              "      dtype=int32)"
            ]
          },
          "metadata": {
            "tags": []
          },
          "execution_count": 84
        }
      ]
    },
    {
      "cell_type": "code",
      "metadata": {
        "colab": {
          "base_uri": "https://localhost:8080/",
          "height": 665
        },
        "id": "lyyIzFHZVoax",
        "outputId": "8c7a27d9-4108-4ace-85a2-99b02ecef89c"
      },
      "source": [
        "data_frame['Cluster Number']=predict\n",
        "data_frame"
      ],
      "execution_count": null,
      "outputs": [
        {
          "output_type": "execute_result",
          "data": {
            "text/html": [
              "<div>\n",
              "<style scoped>\n",
              "    .dataframe tbody tr th:only-of-type {\n",
              "        vertical-align: middle;\n",
              "    }\n",
              "\n",
              "    .dataframe tbody tr th {\n",
              "        vertical-align: top;\n",
              "    }\n",
              "\n",
              "    .dataframe thead th {\n",
              "        text-align: right;\n",
              "    }\n",
              "</style>\n",
              "<table border=\"1\" class=\"dataframe\">\n",
              "  <thead>\n",
              "    <tr style=\"text-align: right;\">\n",
              "      <th></th>\n",
              "      <th>Country</th>\n",
              "      <th>Revenue</th>\n",
              "      <th>Nüfus</th>\n",
              "      <th>Per person</th>\n",
              "      <th>Continent</th>\n",
              "      <th>Cluster Number</th>\n",
              "      <th>Cluster Number</th>\n",
              "    </tr>\n",
              "  </thead>\n",
              "  <tbody>\n",
              "    <tr>\n",
              "      <th>0</th>\n",
              "      <td>USA</td>\n",
              "      <td>1.000000</td>\n",
              "      <td>323766</td>\n",
              "      <td>0.720937</td>\n",
              "      <td>North America</td>\n",
              "      <td>2</td>\n",
              "      <td>2</td>\n",
              "    </tr>\n",
              "    <tr>\n",
              "      <th>1</th>\n",
              "      <td>China</td>\n",
              "      <td>0.678682</td>\n",
              "      <td>1415045</td>\n",
              "      <td>0.092911</td>\n",
              "      <td>Asia</td>\n",
              "      <td>1</td>\n",
              "      <td>3</td>\n",
              "    </tr>\n",
              "    <tr>\n",
              "      <th>2</th>\n",
              "      <td>Japan</td>\n",
              "      <td>0.225177</td>\n",
              "      <td>127185</td>\n",
              "      <td>0.456035</td>\n",
              "      <td>Asia</td>\n",
              "      <td>3</td>\n",
              "      <td>1</td>\n",
              "    </tr>\n",
              "    <tr>\n",
              "      <th>3</th>\n",
              "      <td>Germany</td>\n",
              "      <td>0.176369</td>\n",
              "      <td>82293</td>\n",
              "      <td>0.580370</td>\n",
              "      <td>Europe</td>\n",
              "      <td>3</td>\n",
              "      <td>1</td>\n",
              "    </tr>\n",
              "    <tr>\n",
              "      <th>4</th>\n",
              "      <td>England</td>\n",
              "      <td>0.111800</td>\n",
              "      <td>66573</td>\n",
              "      <td>0.497598</td>\n",
              "      <td>Europe</td>\n",
              "      <td>3</td>\n",
              "      <td>1</td>\n",
              "    </tr>\n",
              "    <tr>\n",
              "      <th>5</th>\n",
              "      <td>France</td>\n",
              "      <td>0.111292</td>\n",
              "      <td>65233</td>\n",
              "      <td>0.506507</td>\n",
              "      <td>Europe</td>\n",
              "      <td>3</td>\n",
              "      <td>1</td>\n",
              "    </tr>\n",
              "    <tr>\n",
              "      <th>6</th>\n",
              "      <td>India</td>\n",
              "      <td>0.107225</td>\n",
              "      <td>1354051</td>\n",
              "      <td>0.000000</td>\n",
              "      <td>Asia</td>\n",
              "      <td>3</td>\n",
              "      <td>0</td>\n",
              "    </tr>\n",
              "    <tr>\n",
              "      <th>7</th>\n",
              "      <td>Italy</td>\n",
              "      <td>0.073161</td>\n",
              "      <td>62273</td>\n",
              "      <td>0.410118</td>\n",
              "      <td>Europe</td>\n",
              "      <td>0</td>\n",
              "      <td>1</td>\n",
              "    </tr>\n",
              "    <tr>\n",
              "      <th>8</th>\n",
              "      <td>Brazil</td>\n",
              "      <td>0.071127</td>\n",
              "      <td>210867</td>\n",
              "      <td>0.095170</td>\n",
              "      <td>South America</td>\n",
              "      <td>0</td>\n",
              "      <td>0</td>\n",
              "    </tr>\n",
              "    <tr>\n",
              "      <th>9</th>\n",
              "      <td>Canada</td>\n",
              "      <td>0.053841</td>\n",
              "      <td>36953</td>\n",
              "      <td>0.551407</td>\n",
              "      <td>North America</td>\n",
              "      <td>0</td>\n",
              "      <td>1</td>\n",
              "    </tr>\n",
              "    <tr>\n",
              "      <th>10</th>\n",
              "      <td>Russia</td>\n",
              "      <td>0.049774</td>\n",
              "      <td>143967</td>\n",
              "      <td>0.116455</td>\n",
              "      <td>Europe</td>\n",
              "      <td>0</td>\n",
              "      <td>0</td>\n",
              "    </tr>\n",
              "    <tr>\n",
              "      <th>11</th>\n",
              "      <td>South Korea</td>\n",
              "      <td>0.048249</td>\n",
              "      <td>51164</td>\n",
              "      <td>0.365905</td>\n",
              "      <td>Asia</td>\n",
              "      <td>0</td>\n",
              "      <td>1</td>\n",
              "    </tr>\n",
              "    <tr>\n",
              "      <th>12</th>\n",
              "      <td>Spain</td>\n",
              "      <td>0.039097</td>\n",
              "      <td>46397</td>\n",
              "      <td>0.360155</td>\n",
              "      <td>Europe</td>\n",
              "      <td>0</td>\n",
              "      <td>1</td>\n",
              "    </tr>\n",
              "    <tr>\n",
              "      <th>13</th>\n",
              "      <td>Australia</td>\n",
              "      <td>0.038589</td>\n",
              "      <td>24772</td>\n",
              "      <td>0.691512</td>\n",
              "      <td>Oceania</td>\n",
              "      <td>0</td>\n",
              "      <td>1</td>\n",
              "    </tr>\n",
              "    <tr>\n",
              "      <th>14</th>\n",
              "      <td>Mexican</td>\n",
              "      <td>0.023845</td>\n",
              "      <td>130759</td>\n",
              "      <td>0.084582</td>\n",
              "      <td>North America</td>\n",
              "      <td>0</td>\n",
              "      <td>0</td>\n",
              "    </tr>\n",
              "    <tr>\n",
              "      <th>15</th>\n",
              "      <td>Indonesia</td>\n",
              "      <td>0.016727</td>\n",
              "      <td>266794</td>\n",
              "      <td>0.022550</td>\n",
              "      <td>Asia</td>\n",
              "      <td>0</td>\n",
              "      <td>0</td>\n",
              "    </tr>\n",
              "    <tr>\n",
              "      <th>16</th>\n",
              "      <td>Netherlands</td>\n",
              "      <td>0.010372</td>\n",
              "      <td>17084</td>\n",
              "      <td>0.629540</td>\n",
              "      <td>Europe</td>\n",
              "      <td>0</td>\n",
              "      <td>1</td>\n",
              "    </tr>\n",
              "    <tr>\n",
              "      <th>17</th>\n",
              "      <td>Turkey</td>\n",
              "      <td>0.008592</td>\n",
              "      <td>81916</td>\n",
              "      <td>0.106528</td>\n",
              "      <td>Asia</td>\n",
              "      <td>0</td>\n",
              "      <td>0</td>\n",
              "    </tr>\n",
              "    <tr>\n",
              "      <th>18</th>\n",
              "      <td>Saudi Arabia</td>\n",
              "      <td>0.000356</td>\n",
              "      <td>33554</td>\n",
              "      <td>0.238849</td>\n",
              "      <td>Asia</td>\n",
              "      <td>0</td>\n",
              "      <td>0</td>\n",
              "    </tr>\n",
              "    <tr>\n",
              "      <th>19</th>\n",
              "      <td>Switzerland</td>\n",
              "      <td>0.000000</td>\n",
              "      <td>8554</td>\n",
              "      <td>1.000000</td>\n",
              "      <td>Europe</td>\n",
              "      <td>0</td>\n",
              "      <td>1</td>\n",
              "    </tr>\n",
              "  </tbody>\n",
              "</table>\n",
              "</div>"
            ],
            "text/plain": [
              "         Country   Revenue  ...  Cluster Number   Cluster Number\n",
              "0            USA  1.000000  ...                2               2\n",
              "1          China  0.678682  ...                1               3\n",
              "2          Japan  0.225177  ...                3               1\n",
              "3        Germany  0.176369  ...                3               1\n",
              "4        England  0.111800  ...                3               1\n",
              "5         France  0.111292  ...                3               1\n",
              "6          India  0.107225  ...                3               0\n",
              "7          Italy  0.073161  ...                0               1\n",
              "8         Brazil  0.071127  ...                0               0\n",
              "9         Canada  0.053841  ...                0               1\n",
              "10        Russia  0.049774  ...                0               0\n",
              "11   South Korea  0.048249  ...                0               1\n",
              "12         Spain  0.039097  ...                0               1\n",
              "13     Australia  0.038589  ...                0               1\n",
              "14       Mexican  0.023845  ...                0               0\n",
              "15     Indonesia  0.016727  ...                0               0\n",
              "16   Netherlands  0.010372  ...                0               1\n",
              "17        Turkey  0.008592  ...                0               0\n",
              "18  Saudi Arabia  0.000356  ...                0               0\n",
              "19   Switzerland  0.000000  ...                0               1\n",
              "\n",
              "[20 rows x 7 columns]"
            ]
          },
          "metadata": {
            "tags": []
          },
          "execution_count": 86
        }
      ]
    },
    {
      "cell_type": "code",
      "metadata": {
        "colab": {
          "base_uri": "https://localhost:8080/"
        },
        "id": "bYCCEvwxn1Ad",
        "outputId": "5114e4e4-a3a4-486b-c670-0db223b68d6d"
      },
      "source": [
        "k_means.cluster_centers_"
      ],
      "execution_count": null,
      "outputs": [
        {
          "output_type": "execute_result",
          "data": {
            "text/plain": [
              "array([[0.03966358, 0.0948764 ],\n",
              "       [0.08072232, 0.54992245],\n",
              "       [1.        , 0.72093656],\n",
              "       [0.67868219, 0.09291072]])"
            ]
          },
          "metadata": {
            "tags": []
          },
          "execution_count": 87
        }
      ]
    },
    {
      "cell_type": "code",
      "metadata": {
        "colab": {
          "base_uri": "https://localhost:8080/",
          "height": 296
        },
        "id": "-OJylCazaqgN",
        "outputId": "6d0eceb9-4db0-4659-e6cf-7ace285f5d45"
      },
      "source": [
        "data_frame1 = data_frame[data_frame['Cluster Number '] ==0]\n",
        "data_frame2 = data_frame[data_frame['Cluster Number '] ==1]\n",
        "data_frame3 = data_frame[data_frame['Cluster Number '] ==2]\n",
        "data_frame4 = data_frame[data_frame['Cluster Number '] ==3]\n",
        "plt.scatter(data_frame1['Revenue'],data_frame1['Per person'],color='green')\n",
        "plt.scatter(data_frame2['Revenue'],data_frame2['Per person'],color='red')\n",
        "plt.scatter(data_frame3['Revenue'],data_frame3['Per person'],color='black')\n",
        "plt.scatter(data_frame4['Revenue'],data_frame4['Per person'],color = 'orange')\n",
        "plt.xlabel('Revenue')\n",
        "plt.ylabel('Per Person')\n",
        "plt.scatter(k_means.cluster_centers_[:,0],k_means.cluster_centers_[:,1],color='black',marker='*',label='centroid')\n",
        "plt.legend()"
      ],
      "execution_count": null,
      "outputs": [
        {
          "output_type": "execute_result",
          "data": {
            "text/plain": [
              "<matplotlib.legend.Legend at 0x7f720dc82f10>"
            ]
          },
          "metadata": {
            "tags": []
          },
          "execution_count": 92
        },
        {
          "output_type": "display_data",
          "data": {
            "image/png": "[encoded data removed]",
            "text/plain": [
              "<Figure size 432x288 with 1 Axes>"
            ]
          },
          "metadata": {
            "tags": [],
            "needs_background": "light"
          }
        }
      ]
    },
    {
      "cell_type": "code",
      "metadata": {
        "id": "dPK2DKZxadR5"
      },
      "source": [
        "sse = []\n",
        "k_rng = range(1,10)\n",
        "for k in k_rng:\n",
        "    k_means = KMeans(n_clusters=k)\n",
        "    k_means.fit(data_frame[['Revenue','Per person']])\n",
        "    sse.append(k_means.inertia_)"
      ],
      "execution_count": null,
      "outputs": []
    },
    {
      "cell_type": "code",
      "metadata": {
        "colab": {
          "base_uri": "https://localhost:8080/"
        },
        "id": "lLWoDoW5adPh",
        "outputId": "c452c4d3-b082-4be1-c8df-352c15072a0f"
      },
      "source": [
        "sse"
      ],
      "execution_count": null,
      "outputs": [
        {
          "output_type": "execute_result",
          "data": {
            "text/plain": [
              "[2.649953087688547,\n",
              " 1.567906314788027,\n",
              " 0.6749085173692712,\n",
              " 0.4260777224439267,\n",
              " 0.1960832410321136,\n",
              " 0.11330815148436033,\n",
              " 0.06554890429974783,\n",
              " 0.04875637359802297,\n",
              " 0.03511436050446354]"
            ]
          },
          "metadata": {
            "tags": []
          },
          "execution_count": 96
        }
      ]
    },
    {
      "cell_type": "code",
      "metadata": {
        "colab": {
          "base_uri": "https://localhost:8080/",
          "height": 296
        },
        "id": "80XgsuMSadNA",
        "outputId": "c0498269-4473-4238-d560-533e855ca4e5"
      },
      "source": [
        "plt.xlabel('K')\n",
        "plt.ylabel('Sum of squared error')\n",
        "plt.plot(k_rng,sse)"
      ],
      "execution_count": null,
      "outputs": [
        {
          "output_type": "execute_result",
          "data": {
            "text/plain": [
              "[<matplotlib.lines.Line2D at 0x7f720dc1d5d0>]"
            ]
          },
          "metadata": {
            "tags": []
          },
          "execution_count": 97
        },
        {
          "output_type": "display_data",
          "data": {
            "image/png": "[encoded data removed]",
            "text/plain": [
              "<Figure size 432x288 with 1 Axes>"
            ]
          },
          "metadata": {
            "tags": [],
            "needs_background": "light"
          }
        }
      ]
    },
    {
      "cell_type": "markdown",
      "metadata": {
        "id": "_PK_dvKuVto7"
      },
      "source": [
        "## **2. Program to calculate the entropy and the information gain**"
      ]
    },
    {
      "cell_type": "code",
      "metadata": {
        "id": "8ZHgYc9BcFa4"
      },
      "source": [
        "import pandas as pd\n",
        "import numpy as np\n",
        "from scipy.stats import entropy as en"
      ],
      "execution_count": null,
      "outputs": []
    },
    {
      "cell_type": "code",
      "metadata": {
        "id": "qn0HKOZSh6tu",
        "colab": {
          "base_uri": "https://localhost:8080/"
        },
        "outputId": "c4450f0a-5f96-40e7-96f4-04c0e20f5076"
      },
      "source": [
        "a=[2,3,1,4,1,2]\n",
        "a"
      ],
      "execution_count": null,
      "outputs": [
        {
          "output_type": "execute_result",
          "data": {
            "text/plain": [
              "[2, 3, 1, 4, 1, 2]"
            ]
          },
          "metadata": {
            "tags": []
          },
          "execution_count": 6
        }
      ]
    },
    {
      "cell_type": "code",
      "metadata": {
        "id": "omPKzFJAh6rR"
      },
      "source": [
        "a = pd.Series"
      ],
      "execution_count": null,
      "outputs": []
    },
    {
      "cell_type": "code",
      "metadata": {
        "id": "gjXXGUUuh6mW",
        "colab": {
          "base_uri": "https://localhost:8080/"
        },
        "outputId": "a52b4b32-aa43-4f7b-8567-9bfb5d32159b"
      },
      "source": [
        "data=a.value_counts(_)\n",
        "en(data)"
      ],
      "execution_count": null,
      "outputs": [
        {
          "output_type": "execute_result",
          "data": {
            "text/plain": [
              "1.329661348854758"
            ]
          },
          "metadata": {
            "tags": []
          },
          "execution_count": 12
        }
      ]
    },
    {
      "cell_type": "markdown",
      "metadata": {
        "id": "-94ly24LVtjZ"
      },
      "source": [
        "## **3. Program to implement perceptron**"
      ]
    },
    {
      "cell_type": "code",
      "metadata": {
        "colab": {
          "base_uri": "https://localhost:8080/",
          "height": 417
        },
        "id": "J-F6r5RmmesU",
        "outputId": "ea6bff67-2a53-46c6-8f2f-4fa713594726"
      },
      "source": [
        "import numpy as np\n",
        "import pandas as pd\n",
        "import matplotlib.pyplot as plt\n",
        "data = pd.read_csv('/content/iris.csv')\n",
        "data"
      ],
      "execution_count": null,
      "outputs": [
        {
          "output_type": "execute_result",
          "data": {
            "text/html": [
              "<div>\n",
              "<style scoped>\n",
              "    .dataframe tbody tr th:only-of-type {\n",
              "        vertical-align: middle;\n",
              "    }\n",
              "\n",
              "    .dataframe tbody tr th {\n",
              "        vertical-align: top;\n",
              "    }\n",
              "\n",
              "    .dataframe thead th {\n",
              "        text-align: right;\n",
              "    }\n",
              "</style>\n",
              "<table border=\"1\" class=\"dataframe\">\n",
              "  <thead>\n",
              "    <tr style=\"text-align: right;\">\n",
              "      <th></th>\n",
              "      <th>5.1</th>\n",
              "      <th>3.5</th>\n",
              "      <th>1.4</th>\n",
              "      <th>0.2</th>\n",
              "      <th>Iris-setosa</th>\n",
              "    </tr>\n",
              "  </thead>\n",
              "  <tbody>\n",
              "    <tr>\n",
              "      <th>0</th>\n",
              "      <td>4.9</td>\n",
              "      <td>3.0</td>\n",
              "      <td>1.4</td>\n",
              "      <td>0.2</td>\n",
              "      <td>Iris-setosa</td>\n",
              "    </tr>\n",
              "    <tr>\n",
              "      <th>1</th>\n",
              "      <td>4.7</td>\n",
              "      <td>3.2</td>\n",
              "      <td>1.3</td>\n",
              "      <td>0.2</td>\n",
              "      <td>Iris-setosa</td>\n",
              "    </tr>\n",
              "    <tr>\n",
              "      <th>2</th>\n",
              "      <td>4.6</td>\n",
              "      <td>3.1</td>\n",
              "      <td>1.5</td>\n",
              "      <td>0.2</td>\n",
              "      <td>Iris-setosa</td>\n",
              "    </tr>\n",
              "    <tr>\n",
              "      <th>3</th>\n",
              "      <td>5.0</td>\n",
              "      <td>3.6</td>\n",
              "      <td>1.4</td>\n",
              "      <td>0.2</td>\n",
              "      <td>Iris-setosa</td>\n",
              "    </tr>\n",
              "    <tr>\n",
              "      <th>4</th>\n",
              "      <td>5.4</td>\n",
              "      <td>3.9</td>\n",
              "      <td>1.7</td>\n",
              "      <td>0.4</td>\n",
              "      <td>Iris-setosa</td>\n",
              "    </tr>\n",
              "    <tr>\n",
              "      <th>...</th>\n",
              "      <td>...</td>\n",
              "      <td>...</td>\n",
              "      <td>...</td>\n",
              "      <td>...</td>\n",
              "      <td>...</td>\n",
              "    </tr>\n",
              "    <tr>\n",
              "      <th>144</th>\n",
              "      <td>6.7</td>\n",
              "      <td>3.0</td>\n",
              "      <td>5.2</td>\n",
              "      <td>2.3</td>\n",
              "      <td>Iris-virginica</td>\n",
              "    </tr>\n",
              "    <tr>\n",
              "      <th>145</th>\n",
              "      <td>6.3</td>\n",
              "      <td>2.5</td>\n",
              "      <td>5.0</td>\n",
              "      <td>1.9</td>\n",
              "      <td>Iris-virginica</td>\n",
              "    </tr>\n",
              "    <tr>\n",
              "      <th>146</th>\n",
              "      <td>6.5</td>\n",
              "      <td>3.0</td>\n",
              "      <td>5.2</td>\n",
              "      <td>2.0</td>\n",
              "      <td>Iris-virginica</td>\n",
              "    </tr>\n",
              "    <tr>\n",
              "      <th>147</th>\n",
              "      <td>6.2</td>\n",
              "      <td>3.4</td>\n",
              "      <td>5.4</td>\n",
              "      <td>2.3</td>\n",
              "      <td>Iris-virginica</td>\n",
              "    </tr>\n",
              "    <tr>\n",
              "      <th>148</th>\n",
              "      <td>5.9</td>\n",
              "      <td>3.0</td>\n",
              "      <td>5.1</td>\n",
              "      <td>1.8</td>\n",
              "      <td>Iris-virginica</td>\n",
              "    </tr>\n",
              "  </tbody>\n",
              "</table>\n",
              "<p>149 rows × 5 columns</p>\n",
              "</div>"
            ],
            "text/plain": [
              "     5.1  3.5  1.4  0.2     Iris-setosa\n",
              "0    4.9  3.0  1.4  0.2     Iris-setosa\n",
              "1    4.7  3.2  1.3  0.2     Iris-setosa\n",
              "2    4.6  3.1  1.5  0.2     Iris-setosa\n",
              "3    5.0  3.6  1.4  0.2     Iris-setosa\n",
              "4    5.4  3.9  1.7  0.4     Iris-setosa\n",
              "..   ...  ...  ...  ...             ...\n",
              "144  6.7  3.0  5.2  2.3  Iris-virginica\n",
              "145  6.3  2.5  5.0  1.9  Iris-virginica\n",
              "146  6.5  3.0  5.2  2.0  Iris-virginica\n",
              "147  6.2  3.4  5.4  2.3  Iris-virginica\n",
              "148  5.9  3.0  5.1  1.8  Iris-virginica\n",
              "\n",
              "[149 rows x 5 columns]"
            ]
          },
          "metadata": {
            "tags": []
          },
          "execution_count": 23
        }
      ]
    },
    {
      "cell_type": "code",
      "metadata": {
        "colab": {
          "base_uri": "https://localhost:8080/"
        },
        "id": "18jLRpJCmeos",
        "outputId": "59ea6502-2a79-4198-bf4c-44a38700bba9"
      },
      "source": [
        "def load_data():\n",
        "    data = pd.read_csv('/content/iris.csv')\n",
        "    print(data)\n",
        "    data = data.drop('Iris-setosa',axis=1)\n",
        "    # make the dataset linearly separable\n",
        "    data = data[:100]\n",
        "    data[4] = np.where(data.iloc[:, -1]=='Iris-setosa', 0, 1)\n",
        "\n",
        "    data = np.asmatrix(data, dtype = 'float64')\n",
        "    return data\n",
        "data = load_data()"
      ],
      "execution_count": null,
      "outputs": [
        {
          "output_type": "stream",
          "text": [
            "     5.1  3.5  1.4  0.2     Iris-setosa\n",
            "0    4.9  3.0  1.4  0.2     Iris-setosa\n",
            "1    4.7  3.2  1.3  0.2     Iris-setosa\n",
            "2    4.6  3.1  1.5  0.2     Iris-setosa\n",
            "3    5.0  3.6  1.4  0.2     Iris-setosa\n",
            "4    5.4  3.9  1.7  0.4     Iris-setosa\n",
            "..   ...  ...  ...  ...             ...\n",
            "144  6.7  3.0  5.2  2.3  Iris-virginica\n",
            "145  6.3  2.5  5.0  1.9  Iris-virginica\n",
            "146  6.5  3.0  5.2  2.0  Iris-virginica\n",
            "147  6.2  3.4  5.4  2.3  Iris-virginica\n",
            "148  5.9  3.0  5.1  1.8  Iris-virginica\n",
            "\n",
            "[149 rows x 5 columns]\n"
          ],
          "name": "stdout"
        }
      ]
    },
    {
      "cell_type": "code",
      "metadata": {
        "colab": {
          "base_uri": "https://localhost:8080/",
          "height": 279
        },
        "id": "6U-w9aWnmemg",
        "outputId": "686cf305-2605-440e-c9fb-994af458ee80"
      },
      "source": [
        "plt.scatter(np.array(data[:50,0]), np.array(data[:50,2]), marker='+', label='setosa')\n",
        "plt.scatter(np.array(data[50:,0]), np.array(data[50:,2]), marker='x', label='versicolor')\n",
        "plt.xlabel('petal length')\n",
        "plt.ylabel('sepal length')\n",
        "plt.legend()\n",
        "plt.show()"
      ],
      "execution_count": null,
      "outputs": [
        {
          "output_type": "display_data",
          "data": {
            "image/png": "[encoded data removed]",
            "text/plain": [
              "<Figure size 432x288 with 1 Axes>"
            ]
          },
          "metadata": {
            "tags": [],
            "needs_background": "light"
          }
        }
      ]
    },
    {
      "cell_type": "code",
      "metadata": {
        "id": "b_StGM8Nmeki"
      },
      "source": [
        "def perceptron(data, num_iter):\n",
        "    features = data[:, :-1]\n",
        "    labels = data[:, -1]\n",
        "    w = np.zeros(shape=(1, features.shape[1]+1))\n",
        "    misclassified_ = [] \n",
        "    for epoch in range(num_iter):\n",
        "        misclassified = 0\n",
        "        for x, label in zip(features, labels):\n",
        "            x = np.insert(x,0,1)\n",
        "            y = np.dot(w, x.transpose())\n",
        "            target = 1.0 if (y > 0) else 0.0\n",
        "            delta = (label.item(0,0) - target)\n",
        "            if(delta): # misclassified\n",
        "                misclassified += 1\n",
        "                w += (delta * x)\n",
        "        misclassified_.append(misclassified)\n",
        "    return (w, misclassified_)\n",
        "num_iter = 10\n",
        "w, misclassified_ = perceptron(data, num_iter)"
      ],
      "execution_count": null,
      "outputs": []
    },
    {
      "cell_type": "code",
      "metadata": {
        "colab": {
          "base_uri": "https://localhost:8080/",
          "height": 279
        },
        "id": "H1oal6vsmeik",
        "outputId": "51bfd0e3-d61b-418a-ff90-9a26969d202d"
      },
      "source": [
        "epochs = np.arange(1, num_iter+1)\n",
        "plt.plot(epochs, misclassified_)\n",
        "plt.xlabel('iterations')\n",
        "plt.ylabel('misclassified')\n",
        "plt.show()"
      ],
      "execution_count": null,
      "outputs": [
        {
          "output_type": "display_data",
          "data": {
            "image/png": "[encoded data removed]",
            "text/plain": [
              "<Figure size 432x288 with 1 Axes>"
            ]
          },
          "metadata": {
            "tags": [],
            "needs_background": "light"
          }
        }
      ]
    },
    {
      "cell_type": "markdown",
      "metadata": {
        "id": "HeWDfvJePOJa"
      },
      "source": [
        "# Exercise 6"
      ]
    },
    {
      "cell_type": "markdown",
      "metadata": {
        "id": "N4F9Y5o4FP0K"
      },
      "source": [
        "## 1. Generate a decision tree. Find the Depth of decision trees and observe the results, then propose some changes in DecisionTreeClassifier function to limit.\n"
      ]
    },
    {
      "cell_type": "code",
      "metadata": {
        "id": "dn0uVlLjFO-t"
      },
      "source": [
        "import numpy as np\n",
        "import pandas as pd\n",
        "from sklearn.tree import DecisionTreeClassifier\n",
        "from sklearn.model_selection import train_test_split\n",
        "from sklearn.datasets import load_iris"
      ],
      "execution_count": null,
      "outputs": []
    },
    {
      "cell_type": "code",
      "metadata": {
        "id": "wHbChp6avZ4h",
        "colab": {
          "base_uri": "https://localhost:8080/"
        },
        "outputId": "b146f13a-6f80-42a6-dd76-417cde8de612"
      },
      "source": [
        "iris_data = load_iris() \n",
        "\n",
        "iris=pd.DataFrame(iris_data.data)\n",
        "\n",
        "#priting features name of iris data \n",
        "\n",
        "print (\"Features Name : \", iris_data.feature_names) \n",
        "\n",
        "#shape of datasets \n",
        "\n",
        "print (\"Dataset Shape: \", iris.shape) \n",
        "\n",
        "#first five sample \n",
        "\n",
        "print (\"Dataset: \",iris.head())  "
      ],
      "execution_count": null,
      "outputs": [
        {
          "output_type": "stream",
          "text": [
            "Features Name :  ['sepal length (cm)', 'sepal width (cm)', 'petal length (cm)', 'petal width (cm)']\n",
            "Dataset Shape:  (150, 4)\n",
            "Dataset:       0    1    2    3\n",
            "0  5.1  3.5  1.4  0.2\n",
            "1  4.9  3.0  1.4  0.2\n",
            "2  4.7  3.2  1.3  0.2\n",
            "3  4.6  3.1  1.5  0.2\n",
            "4  5.0  3.6  1.4  0.2\n"
          ],
          "name": "stdout"
        }
      ]
    },
    {
      "cell_type": "code",
      "metadata": {
        "id": "BeQI0pGDxxCM",
        "colab": {
          "base_uri": "https://localhost:8080/"
        },
        "outputId": "7dc79a48-e6fd-4d43-9659-8814eff1ea8b"
      },
      "source": [
        "\n",
        "#priting samples and target \n",
        "\n",
        "X = iris.values[:, 0:4] \n",
        "\n",
        "Y = iris_data.target\n",
        "\n",
        "print(X)\n",
        "\n",
        "print(Y)"
      ],
      "execution_count": null,
      "outputs": [
        {
          "output_type": "stream",
          "text": [
            "[[5.1 3.5 1.4 0.2]\n",
            " [4.9 3.  1.4 0.2]\n",
            " [4.7 3.2 1.3 0.2]\n",
            " [4.6 3.1 1.5 0.2]\n",
            " [5.  3.6 1.4 0.2]\n",
            " [5.4 3.9 1.7 0.4]\n",
            " [4.6 3.4 1.4 0.3]\n",
            " [5.  3.4 1.5 0.2]\n",
            " [4.4 2.9 1.4 0.2]\n",
            " [4.9 3.1 1.5 0.1]\n",
            " [5.4 3.7 1.5 0.2]\n",
            " [4.8 3.4 1.6 0.2]\n",
            " [4.8 3.  1.4 0.1]\n",
            " [4.3 3.  1.1 0.1]\n",
            " [5.8 4.  1.2 0.2]\n",
            " [5.7 4.4 1.5 0.4]\n",
            " [5.4 3.9 1.3 0.4]\n",
            " [5.1 3.5 1.4 0.3]\n",
            " [5.7 3.8 1.7 0.3]\n",
            " [5.1 3.8 1.5 0.3]\n",
            " [5.4 3.4 1.7 0.2]\n",
            " [5.1 3.7 1.5 0.4]\n",
            " [4.6 3.6 1.  0.2]\n",
            " [5.1 3.3 1.7 0.5]\n",
            " [4.8 3.4 1.9 0.2]\n",
            " [5.  3.  1.6 0.2]\n",
            " [5.  3.4 1.6 0.4]\n",
            " [5.2 3.5 1.5 0.2]\n",
            " [5.2 3.4 1.4 0.2]\n",
            " [4.7 3.2 1.6 0.2]\n",
            " [4.8 3.1 1.6 0.2]\n",
            " [5.4 3.4 1.5 0.4]\n",
            " [5.2 4.1 1.5 0.1]\n",
            " [5.5 4.2 1.4 0.2]\n",
            " [4.9 3.1 1.5 0.2]\n",
            " [5.  3.2 1.2 0.2]\n",
            " [5.5 3.5 1.3 0.2]\n",
            " [4.9 3.6 1.4 0.1]\n",
            " [4.4 3.  1.3 0.2]\n",
            " [5.1 3.4 1.5 0.2]\n",
            " [5.  3.5 1.3 0.3]\n",
            " [4.5 2.3 1.3 0.3]\n",
            " [4.4 3.2 1.3 0.2]\n",
            " [5.  3.5 1.6 0.6]\n",
            " [5.1 3.8 1.9 0.4]\n",
            " [4.8 3.  1.4 0.3]\n",
            " [5.1 3.8 1.6 0.2]\n",
            " [4.6 3.2 1.4 0.2]\n",
            " [5.3 3.7 1.5 0.2]\n",
            " [5.  3.3 1.4 0.2]\n",
            " [7.  3.2 4.7 1.4]\n",
            " [6.4 3.2 4.5 1.5]\n",
            " [6.9 3.1 4.9 1.5]\n",
            " [5.5 2.3 4.  1.3]\n",
            " [6.5 2.8 4.6 1.5]\n",
            " [5.7 2.8 4.5 1.3]\n",
            " [6.3 3.3 4.7 1.6]\n",
            " [4.9 2.4 3.3 1. ]\n",
            " [6.6 2.9 4.6 1.3]\n",
            " [5.2 2.7 3.9 1.4]\n",
            " [5.  2.  3.5 1. ]\n",
            " [5.9 3.  4.2 1.5]\n",
            " [6.  2.2 4.  1. ]\n",
            " [6.1 2.9 4.7 1.4]\n",
            " [5.6 2.9 3.6 1.3]\n",
            " [6.7 3.1 4.4 1.4]\n",
            " [5.6 3.  4.5 1.5]\n",
            " [5.8 2.7 4.1 1. ]\n",
            " [6.2 2.2 4.5 1.5]\n",
            " [5.6 2.5 3.9 1.1]\n",
            " [5.9 3.2 4.8 1.8]\n",
            " [6.1 2.8 4.  1.3]\n",
            " [6.3 2.5 4.9 1.5]\n",
            " [6.1 2.8 4.7 1.2]\n",
            " [6.4 2.9 4.3 1.3]\n",
            " [6.6 3.  4.4 1.4]\n",
            " [6.8 2.8 4.8 1.4]\n",
            " [6.7 3.  5.  1.7]\n",
            " [6.  2.9 4.5 1.5]\n",
            " [5.7 2.6 3.5 1. ]\n",
            " [5.5 2.4 3.8 1.1]\n",
            " [5.5 2.4 3.7 1. ]\n",
            " [5.8 2.7 3.9 1.2]\n",
            " [6.  2.7 5.1 1.6]\n",
            " [5.4 3.  4.5 1.5]\n",
            " [6.  3.4 4.5 1.6]\n",
            " [6.7 3.1 4.7 1.5]\n",
            " [6.3 2.3 4.4 1.3]\n",
            " [5.6 3.  4.1 1.3]\n",
            " [5.5 2.5 4.  1.3]\n",
            " [5.5 2.6 4.4 1.2]\n",
            " [6.1 3.  4.6 1.4]\n",
            " [5.8 2.6 4.  1.2]\n",
            " [5.  2.3 3.3 1. ]\n",
            " [5.6 2.7 4.2 1.3]\n",
            " [5.7 3.  4.2 1.2]\n",
            " [5.7 2.9 4.2 1.3]\n",
            " [6.2 2.9 4.3 1.3]\n",
            " [5.1 2.5 3.  1.1]\n",
            " [5.7 2.8 4.1 1.3]\n",
            " [6.3 3.3 6.  2.5]\n",
            " [5.8 2.7 5.1 1.9]\n",
            " [7.1 3.  5.9 2.1]\n",
            " [6.3 2.9 5.6 1.8]\n",
            " [6.5 3.  5.8 2.2]\n",
            " [7.6 3.  6.6 2.1]\n",
            " [4.9 2.5 4.5 1.7]\n",
            " [7.3 2.9 6.3 1.8]\n",
            " [6.7 2.5 5.8 1.8]\n",
            " [7.2 3.6 6.1 2.5]\n",
            " [6.5 3.2 5.1 2. ]\n",
            " [6.4 2.7 5.3 1.9]\n",
            " [6.8 3.  5.5 2.1]\n",
            " [5.7 2.5 5.  2. ]\n",
            " [5.8 2.8 5.1 2.4]\n",
            " [6.4 3.2 5.3 2.3]\n",
            " [6.5 3.  5.5 1.8]\n",
            " [7.7 3.8 6.7 2.2]\n",
            " [7.7 2.6 6.9 2.3]\n",
            " [6.  2.2 5.  1.5]\n",
            " [6.9 3.2 5.7 2.3]\n",
            " [5.6 2.8 4.9 2. ]\n",
            " [7.7 2.8 6.7 2. ]\n",
            " [6.3 2.7 4.9 1.8]\n",
            " [6.7 3.3 5.7 2.1]\n",
            " [7.2 3.2 6.  1.8]\n",
            " [6.2 2.8 4.8 1.8]\n",
            " [6.1 3.  4.9 1.8]\n",
            " [6.4 2.8 5.6 2.1]\n",
            " [7.2 3.  5.8 1.6]\n",
            " [7.4 2.8 6.1 1.9]\n",
            " [7.9 3.8 6.4 2. ]\n",
            " [6.4 2.8 5.6 2.2]\n",
            " [6.3 2.8 5.1 1.5]\n",
            " [6.1 2.6 5.6 1.4]\n",
            " [7.7 3.  6.1 2.3]\n",
            " [6.3 3.4 5.6 2.4]\n",
            " [6.4 3.1 5.5 1.8]\n",
            " [6.  3.  4.8 1.8]\n",
            " [6.9 3.1 5.4 2.1]\n",
            " [6.7 3.1 5.6 2.4]\n",
            " [6.9 3.1 5.1 2.3]\n",
            " [5.8 2.7 5.1 1.9]\n",
            " [6.8 3.2 5.9 2.3]\n",
            " [6.7 3.3 5.7 2.5]\n",
            " [6.7 3.  5.2 2.3]\n",
            " [6.3 2.5 5.  1.9]\n",
            " [6.5 3.  5.2 2. ]\n",
            " [6.2 3.4 5.4 2.3]\n",
            " [5.9 3.  5.1 1.8]]\n",
            "[0 0 0 0 0 0 0 0 0 0 0 0 0 0 0 0 0 0 0 0 0 0 0 0 0 0 0 0 0 0 0 0 0 0 0 0 0\n",
            " 0 0 0 0 0 0 0 0 0 0 0 0 0 1 1 1 1 1 1 1 1 1 1 1 1 1 1 1 1 1 1 1 1 1 1 1 1\n",
            " 1 1 1 1 1 1 1 1 1 1 1 1 1 1 1 1 1 1 1 1 1 1 1 1 1 1 2 2 2 2 2 2 2 2 2 2 2\n",
            " 2 2 2 2 2 2 2 2 2 2 2 2 2 2 2 2 2 2 2 2 2 2 2 2 2 2 2 2 2 2 2 2 2 2 2 2 2\n",
            " 2 2]\n"
          ],
          "name": "stdout"
        }
      ]
    },
    {
      "cell_type": "code",
      "metadata": {
        "id": "pGqWlIH3uknq"
      },
      "source": [
        "X_train, X_test, y_train, y_test = train_test_split(X, Y, test_size = 0.3, random_state = 100)"
      ],
      "execution_count": null,
      "outputs": []
    },
    {
      "cell_type": "code",
      "metadata": {
        "id": "Uhq4AECfsZvA",
        "colab": {
          "base_uri": "https://localhost:8080/"
        },
        "outputId": "acfe6341-3bd9-4801-c774-97fba6ae23ed"
      },
      "source": [
        "classifier = DecisionTreeClassifier(max_depth=8,random_state= 44)\n",
        "classifier.fit(X_train,y_train)\n",
        "print('Depth',classifier.get_depth())\n",
        "print('Train',classifier.score(X_train,y_train))\n",
        "print('Test',classifier.score(X_test,y_test))\n"
      ],
      "execution_count": null,
      "outputs": [
        {
          "output_type": "stream",
          "text": [
            "Depth 4\n",
            "Train 1.0\n",
            "Test 0.9555555555555556\n"
          ],
          "name": "stdout"
        }
      ]
    },
    {
      "cell_type": "code",
      "metadata": {
        "id": "T4ybVEKfyXAu",
        "colab": {
          "base_uri": "https://localhost:8080/"
        },
        "outputId": "0d934d3e-3e27-4c8d-8071-e07ca45ba4b5"
      },
      "source": [
        "X=[[6.4,1.8 ,6.6 ,2.1]]\n",
        "\n",
        "Y_pred=classifier.predict(X)\n",
        "\n",
        "print(Y_pred)\n",
        "\n",
        "# prediction on X_test (testing data )\n",
        "\n",
        "Y_pred=classifier.predict(X_test)\n",
        "\n",
        "print(Y_pred)"
      ],
      "execution_count": null,
      "outputs": [
        {
          "output_type": "stream",
          "text": [
            "[2]\n",
            "[2 0 2 0 2 2 0 0 2 0 0 2 0 0 2 1 1 2 2 2 2 0 2 0 1 2 1 0 1 2 1 1 1 0 0 1 0\n",
            " 1 2 2 0 1 2 2 0]\n"
          ],
          "name": "stdout"
        }
      ]
    },
    {
      "cell_type": "markdown",
      "metadata": {
        "id": "1Bp-dTa_-utG"
      },
      "source": [
        "# Exercise 7\n"
      ]
    },
    {
      "cell_type": "markdown",
      "metadata": {
        "id": "DAyQBh2KFS_C"
      },
      "source": [
        "##  Calculating with matrices using numpy : inv, pinv, matrix_rank, solve, lstsq, svd, transpose, eig, sort, linspace, meshgrid, mgrid, ogrid, concatenate, tile, squeeze, integrate.\n"
      ]
    },
    {
      "cell_type": "code",
      "metadata": {
        "id": "LY5b4B8Lmctw",
        "colab": {
          "base_uri": "https://localhost:8080/"
        },
        "outputId": "44b01733-528c-4aa3-d571-8620ca61dc58"
      },
      "source": [
        "import numpy as np\n",
        "from numpy.linalg import *\n",
        "# Inversing an array\n",
        "arr = np.array([[3,6,6],[4,6,2],[8,3,3]])\n",
        "print('The array is : {}'.format(arr))\n",
        "print()\n",
        "x = inv(np.matrix(arr))\n",
        "print('Inverse of an the given array {} is \\n\\n{}'.format(arr,x))\n",
        "print(end = '\\n ============================ \\n\\n\\n')\n",
        "\n",
        "#Pinv\n",
        "arr1 = np.array([[1,2,3],[4,5,6],[7,8,9]])\n",
        "print('Matrix : {}'.format(arr1))\n",
        "print(end = '\\n\\n')\n",
        "pinv = pinv(np.matrix(arr1))\n",
        "\n",
        "print('Pinv : {}'.format(pinv))"
      ],
      "execution_count": null,
      "outputs": [
        {
          "output_type": "stream",
          "text": [
            "The array is : [[3 6 6]\n",
            " [4 6 2]\n",
            " [8 3 3]]\n",
            "\n",
            "Inverse of an the given array [[3 6 6]\n",
            " [4 6 2]\n",
            " [8 3 3]] is \n",
            "\n",
            "[[-0.07692308  0.          0.15384615]\n",
            " [-0.02564103  0.25       -0.11538462]\n",
            " [ 0.23076923 -0.25        0.03846154]]\n",
            "\n",
            " ============================ \n",
            "\n",
            "\n",
            "Matrix : [[1 2 3]\n",
            " [4 5 6]\n",
            " [7 8 9]]\n",
            "\n",
            "\n",
            "Pinv : [[-6.38888889e-01 -1.66666667e-01  3.05555556e-01]\n",
            " [-5.55555556e-02  1.30136518e-16  5.55555556e-02]\n",
            " [ 5.27777778e-01  1.66666667e-01 -1.94444444e-01]]\n"
          ],
          "name": "stdout"
        }
      ]
    },
    {
      "cell_type": "code",
      "metadata": {
        "colab": {
          "base_uri": "https://localhost:8080/"
        },
        "id": "Gvs4YPXjzLiw",
        "outputId": "374ef700-b0ba-45ed-b1ae-598986ae35e1"
      },
      "source": [
        "# Rank of the matrix.\n",
        "c = np.array([[2,3,10],[15,17,33],[34,65,77]])\n",
        "print(c)\n",
        "print('Rank of the matrix c is {}'.format(matrix_rank(c)))\n",
        "print('The rank of zero matrix {} is {}'.format(np.zeros(4),matrix_rank(np.zeros(4))))\n",
        "print(end= '\\n =====================================\\n\\n')\n",
        "\n",
        "# Solve \n",
        "a = np.array([[12,141],[10,45]])\n",
        "b = np.array([10,33])\n",
        "print('Input matrix is :\\n{}'.format(a),end='\\n\\n')\n",
        "solv = solve(a,b)\n",
        "print('The final matrix is :{}'.format(solv)) "
      ],
      "execution_count": null,
      "outputs": [
        {
          "output_type": "stream",
          "text": [
            "[[ 2  3 10]\n",
            " [15 17 33]\n",
            " [34 65 77]]\n",
            "Rank of the matrix c is 3\n",
            "The rank of zero matrix [0. 0. 0. 0.] is 0\n",
            "\n",
            " =====================================\n",
            "\n",
            "Input matrix is :\n",
            "[[ 12 141]\n",
            " [ 10  45]]\n",
            "\n",
            "The final matrix is :[ 4.83103448 -0.34022989]\n"
          ],
          "name": "stdout"
        }
      ]
    },
    {
      "cell_type": "code",
      "metadata": {
        "colab": {
          "base_uri": "https://localhost:8080/",
          "height": 282
        },
        "id": "y5ieHXyA6soz",
        "outputId": "a05813f6-920c-4b28-c222-99f4b8591e00"
      },
      "source": [
        "# lstsq\n",
        "import matplotlib.pyplot as plt\n",
        "x = np.arange(0, 9)\n",
        "A = np.array([x, np.ones(9)])\n",
        "\n",
        "  # linearly generated sequence\n",
        "y = [9, 28, 26.85, 20.6, 22.8, 32, 23, 28.5, 29]\n",
        "\n",
        "  # obtaining the parameters of regression line\n",
        "w = np.linalg.lstsq(A.T, y,rcond=None)[0]\n",
        "print(w)\n",
        "\n",
        "line = w[0]*x + w[1]  # regression line\n",
        "plt.plot(x, line, 'r-')\n",
        "plt.plot(x, y, 'o')\n",
        "plt.show()"
      ],
      "execution_count": null,
      "outputs": [
        {
          "output_type": "stream",
          "text": [
            "[ 1.42       18.73666667]\n"
          ],
          "name": "stdout"
        },
        {
          "output_type": "display_data",
          "data": {
            "image/png": "[encoded data removed]",
            "text/plain": [
              "<Figure size 432x288 with 1 Axes>"
            ]
          },
          "metadata": {
            "tags": [],
            "needs_background": "light"
          }
        }
      ]
    },
    {
      "cell_type": "code",
      "metadata": {
        "colab": {
          "base_uri": "https://localhost:8080/"
        },
        "id": "FHgzP8zu7_KN",
        "outputId": "51912531-63ce-40c7-8171-876a72cb2793"
      },
      "source": [
        "#svd\n",
        "A = np.array([[1,2],[4,3],[9,8]])\n",
        "x, y, vt = svd(A,full_matrices= True)\n",
        "print(\"Left singular vectors are: {}\".format(x))\n",
        "print(\"\\nSingular values are: {}\".format(y))\n",
        "print(\"\\nRight singular vectors are: {}\".format(np.transpose(vt)))\n",
        "print(end= '\\n =====================================\\n\\n')\n",
        "\n",
        "#transpose\n",
        "matrx = np.array([[10,20],[30,40]])\n",
        "print('The original matrix is:\\n{}'.format(matrx))\n",
        "print(end='\\n\\n')\n",
        "print('The transverse of the matrix is :\\n{}'.format(np.transpose(matrx)))\n",
        "print(end= '\\n =====================================\\n\\n')\n",
        "\n",
        "#eig\n",
        "  #Eigen values\n",
        "a =np.array([[2,4],[8,90]])\n",
        "print('Original matrix is:\\n{}'.format(a))\n",
        "eign_value, eign_vectors = eig(a)\n",
        "print('Eigen values are:\\n{}'.format(eign_value))\n",
        "print(end='\\n\\n')\n",
        "  #Eigen vectors\n",
        "print('Eigen Vectors are:\\n{}'.format(eign_vectors))\n",
        "print(end= '\\n =====================================\\n\\n')\n"
      ],
      "execution_count": null,
      "outputs": [
        {
          "output_type": "stream",
          "text": [
            "Left singular vectors are: [[-0.15720334  0.89923325 -0.40824829]\n",
            " [-0.37765119 -0.43670689 -0.81649658]\n",
            " [-0.91250572  0.02581947  0.40824829]]\n",
            "\n",
            "Singular values are: [13.19615919  0.92810708]\n",
            "\n",
            "Right singular vectors are: [[-0.74872995 -0.66287515]\n",
            " [-0.66287515  0.74872995]]\n",
            "\n",
            " =====================================\n",
            "\n",
            "The original matrix is:\n",
            "[[10 20]\n",
            " [30 40]]\n",
            "\n",
            "\n",
            "The transverse of the matrix is :\n",
            "[[10 30]\n",
            " [20 40]]\n",
            "\n",
            " =====================================\n",
            "\n",
            "Original matrix is:\n",
            "[[ 2  4]\n",
            " [ 8 90]]\n",
            "Eigen values are:\n",
            "[ 1.63785397 90.36214603]\n",
            "\n",
            "\n",
            "Eigen Vectors are:\n",
            "[[-0.9959266  -0.04522194]\n",
            " [ 0.09016771 -0.99897696]]\n",
            "\n",
            " =====================================\n",
            "\n"
          ],
          "name": "stdout"
        }
      ]
    },
    {
      "cell_type": "code",
      "metadata": {
        "colab": {
          "base_uri": "https://localhost:8080/"
        },
        "id": "jbnX-PJq-7Ko",
        "outputId": "8e0f9a88-0246-4b6c-af78-05505cc098c1"
      },
      "source": [
        "#Sort\n",
        "a = np.array([[10,20],[30,40]])\n",
        "print('Original array is:\\n{}'.format(a))\n",
        "print()\n",
        "srt = np.sort(a)\n",
        "print(srt)\n",
        "print('Flattened array is:\\n{}'.format(np.sort(a,axis= None)))\n",
        "print(end= '\\n =====================================\\n\\n')\n",
        "\n",
        "#Linspace\n",
        "print('Linspace:{}'.format(np.linspace(2,3,8)))"
      ],
      "execution_count": null,
      "outputs": [
        {
          "output_type": "stream",
          "text": [
            "Original array is:\n",
            "[[10 20]\n",
            " [30 40]]\n",
            "\n",
            "[[10 20]\n",
            " [30 40]]\n",
            "Flattened array is:\n",
            "[10 20 30 40]\n",
            "\n",
            " =====================================\n",
            "\n",
            "Linspace:[2.         2.14285714 2.28571429 2.42857143 2.57142857 2.71428571\n",
            " 2.85714286 3.        ]\n"
          ],
          "name": "stdout"
        }
      ]
    },
    {
      "cell_type": "code",
      "metadata": {
        "colab": {
          "base_uri": "https://localhost:8080/"
        },
        "id": "G7kyGx_SMS8_",
        "outputId": "84f5a748-7549-44df-8707-a076894a1e54"
      },
      "source": [
        "#meshgrid\n",
        "\n",
        "n1a, n1b = (5, 10)  \n",
        "a1 = np.linspace(1, 4, n1a)  \n",
        "b1 = np.linspace(1, 4, n1b)  \n",
        "x1a, x1b = np.meshgrid(a1, b1)  \n",
        "print(x1a)  \n",
        "print(x1b) \n",
        "\n",
        "x1a, x1b = np.meshgrid(a1, b1,sparse=True)  \n",
        "print(x1a)  \n",
        "print(x1b)  "
      ],
      "execution_count": null,
      "outputs": [
        {
          "output_type": "stream",
          "text": [
            "[[1.   1.75 2.5  3.25 4.  ]\n",
            " [1.   1.75 2.5  3.25 4.  ]\n",
            " [1.   1.75 2.5  3.25 4.  ]\n",
            " [1.   1.75 2.5  3.25 4.  ]\n",
            " [1.   1.75 2.5  3.25 4.  ]\n",
            " [1.   1.75 2.5  3.25 4.  ]\n",
            " [1.   1.75 2.5  3.25 4.  ]\n",
            " [1.   1.75 2.5  3.25 4.  ]\n",
            " [1.   1.75 2.5  3.25 4.  ]\n",
            " [1.   1.75 2.5  3.25 4.  ]]\n",
            "[[1.         1.         1.         1.         1.        ]\n",
            " [1.33333333 1.33333333 1.33333333 1.33333333 1.33333333]\n",
            " [1.66666667 1.66666667 1.66666667 1.66666667 1.66666667]\n",
            " [2.         2.         2.         2.         2.        ]\n",
            " [2.33333333 2.33333333 2.33333333 2.33333333 2.33333333]\n",
            " [2.66666667 2.66666667 2.66666667 2.66666667 2.66666667]\n",
            " [3.         3.         3.         3.         3.        ]\n",
            " [3.33333333 3.33333333 3.33333333 3.33333333 3.33333333]\n",
            " [3.66666667 3.66666667 3.66666667 3.66666667 3.66666667]\n",
            " [4.         4.         4.         4.         4.        ]]\n",
            "[[1.   1.75 2.5  3.25 4.  ]]\n",
            "[[1.        ]\n",
            " [1.33333333]\n",
            " [1.66666667]\n",
            " [2.        ]\n",
            " [2.33333333]\n",
            " [2.66666667]\n",
            " [3.        ]\n",
            " [3.33333333]\n",
            " [3.66666667]\n",
            " [4.        ]]\n"
          ],
          "name": "stdout"
        }
      ]
    },
    {
      "cell_type": "code",
      "metadata": {
        "colab": {
          "base_uri": "https://localhost:8080/"
        },
        "id": "2fKCRCXuuHWs",
        "outputId": "23b901a4-dd76-4457-883c-d817acf09045"
      },
      "source": [
        "#mgrid\n",
        "\n",
        "print(np.mgrid[0:10,0:10])\n",
        "\n",
        "print(np.mgrid[-1:1:5j])"
      ],
      "execution_count": null,
      "outputs": [
        {
          "output_type": "stream",
          "text": [
            "[[[0 0 0 0 0 0 0 0 0 0]\n",
            "  [1 1 1 1 1 1 1 1 1 1]\n",
            "  [2 2 2 2 2 2 2 2 2 2]\n",
            "  [3 3 3 3 3 3 3 3 3 3]\n",
            "  [4 4 4 4 4 4 4 4 4 4]\n",
            "  [5 5 5 5 5 5 5 5 5 5]\n",
            "  [6 6 6 6 6 6 6 6 6 6]\n",
            "  [7 7 7 7 7 7 7 7 7 7]\n",
            "  [8 8 8 8 8 8 8 8 8 8]\n",
            "  [9 9 9 9 9 9 9 9 9 9]]\n",
            "\n",
            " [[0 1 2 3 4 5 6 7 8 9]\n",
            "  [0 1 2 3 4 5 6 7 8 9]\n",
            "  [0 1 2 3 4 5 6 7 8 9]\n",
            "  [0 1 2 3 4 5 6 7 8 9]\n",
            "  [0 1 2 3 4 5 6 7 8 9]\n",
            "  [0 1 2 3 4 5 6 7 8 9]\n",
            "  [0 1 2 3 4 5 6 7 8 9]\n",
            "  [0 1 2 3 4 5 6 7 8 9]\n",
            "  [0 1 2 3 4 5 6 7 8 9]\n",
            "  [0 1 2 3 4 5 6 7 8 9]]]\n",
            "[-1.  -0.5  0.   0.5  1. ]\n"
          ],
          "name": "stdout"
        }
      ]
    },
    {
      "cell_type": "code",
      "metadata": {
        "colab": {
          "base_uri": "https://localhost:8080/"
        },
        "id": "AZY-PKFWuRzI",
        "outputId": "64d3c3ea-3d88-4879-cf0b-18c5d831f851"
      },
      "source": [
        "#ogrid\n",
        "\n",
        "print(np.ogrid[-1:2:5j])\n",
        "\n",
        "print(np.ogrid[0:10,0:10])"
      ],
      "execution_count": null,
      "outputs": [
        {
          "output_type": "stream",
          "text": [
            "[-1.   -0.25  0.5   1.25  2.  ]\n",
            "[array([[0],\n",
            "       [1],\n",
            "       [2],\n",
            "       [3],\n",
            "       [4],\n",
            "       [5],\n",
            "       [6],\n",
            "       [7],\n",
            "       [8],\n",
            "       [9]]), array([[0, 1, 2, 3, 4, 5, 6, 7, 8, 9]])]\n"
          ],
          "name": "stdout"
        }
      ]
    },
    {
      "cell_type": "code",
      "metadata": {
        "colab": {
          "base_uri": "https://localhost:8080/"
        },
        "id": "qLFyqEMZuX9P",
        "outputId": "dfd63361-2210-402c-929d-912d11d4de82"
      },
      "source": [
        "#concatenate\n",
        "a = np.array([[1, 2], [3, 4]])\n",
        "b = np.array([[5, 6]])\n",
        "conc = np.concatenate((a,b),axis=0)\n",
        "print('Concatenated array is {}'.format(conc))"
      ],
      "execution_count": null,
      "outputs": [
        {
          "output_type": "stream",
          "text": [
            "Concatenated array is [[1 2]\n",
            " [3 4]\n",
            " [5 6]]\n"
          ],
          "name": "stdout"
        }
      ]
    },
    {
      "cell_type": "code",
      "metadata": {
        "colab": {
          "base_uri": "https://localhost:8080/"
        },
        "id": "cE6WCmxjvgui",
        "outputId": "108b82e8-38d3-4b5d-ae6d-47f650c99030"
      },
      "source": [
        "#tile\n",
        "\n",
        "a1 = np.array([0, 10, 22])\n",
        "print(np.tile(a1, 2))\n",
        "print(\"\\n\",np.tile(a1, (1, 2)))\n",
        "print(\"\\n\",np.tile(a1, (2, 1, 2)))\n",
        "\n",
        "b1 = np.array([[12, 20], [34, 43]])\n",
        "print(\"\\n\",\"\\n\",np.tile(b1, 1))\n",
        "\n",
        "print(\"\\n\",np.tile(b1, (2, 1)))\n",
        "\n",
        "c1 = np.array([10,20,30,40])\n",
        "print(\"\\n\",\"\\n\",np.tile(c1,(4,1)))\n"
      ],
      "execution_count": null,
      "outputs": [
        {
          "output_type": "stream",
          "text": [
            "[ 0 10 22  0 10 22]\n",
            "\n",
            " [[ 0 10 22  0 10 22]]\n",
            "\n",
            " [[[ 0 10 22  0 10 22]]\n",
            "\n",
            " [[ 0 10 22  0 10 22]]]\n",
            "\n",
            " \n",
            " [[12 20]\n",
            " [34 43]]\n",
            "\n",
            " [[12 20]\n",
            " [34 43]\n",
            " [12 20]\n",
            " [34 43]]\n",
            "\n",
            " \n",
            " [[10 20 30 40]\n",
            " [10 20 30 40]\n",
            " [10 20 30 40]\n",
            " [10 20 30 40]]\n"
          ],
          "name": "stdout"
        }
      ]
    },
    {
      "cell_type": "code",
      "metadata": {
        "colab": {
          "base_uri": "https://localhost:8080/"
        },
        "id": "gIVu77fkw437",
        "outputId": "c1803ff4-d8e6-4515-be95-1ecfec710e82"
      },
      "source": [
        "#squeeze\n",
        "import numpy as np\n",
        "\n",
        "x = np.array([[[20], [21], [22]]])\n",
        "print(x.shape)\n",
        "print(np.squeeze(x).shape)\n",
        "\n",
        "print(np.squeeze(x, axis=0).shape)\n",
        "\n",
        "x = np.array([[1244]])\n",
        "print(x.shape)\n",
        "\n",
        "print(np.squeeze(x))\n",
        "\n",
        "print(np.squeeze(x).shape)\n",
        "\n",
        "print(np.squeeze(x)[()])"
      ],
      "execution_count": null,
      "outputs": [
        {
          "output_type": "stream",
          "text": [
            "(1, 3, 1)\n",
            "(3,)\n",
            "(3, 1)\n",
            "(1, 1)\n",
            "1244\n",
            "()\n",
            "1244\n"
          ],
          "name": "stdout"
        }
      ]
    },
    {
      "cell_type": "markdown",
      "metadata": {
        "id": "VrhWCzqGPPsp"
      },
      "source": [
        "# Exercise 8\n"
      ]
    },
    {
      "cell_type": "markdown",
      "metadata": {
        "id": "7NN5LfSMFSMN"
      },
      "source": [
        "## **1. Program using pandas**"
      ]
    },
    {
      "cell_type": "code",
      "metadata": {
        "id": "EK-FqihFF9KE"
      },
      "source": [
        "import numpy as np\n",
        "import pandas as pd"
      ],
      "execution_count": null,
      "outputs": []
    },
    {
      "cell_type": "code",
      "metadata": {
        "colab": {
          "base_uri": "https://localhost:8080/",
          "height": 417
        },
        "id": "qOLYawyNF9Gu",
        "outputId": "ebdc117f-33b8-473b-a5b5-7cccaccae2a6"
      },
      "source": [
        "df = pd.read_csv('/content/iris.csv')\n",
        "df"
      ],
      "execution_count": null,
      "outputs": [
        {
          "output_type": "execute_result",
          "data": {
            "text/html": [
              "<div>\n",
              "<style scoped>\n",
              "    .dataframe tbody tr th:only-of-type {\n",
              "        vertical-align: middle;\n",
              "    }\n",
              "\n",
              "    .dataframe tbody tr th {\n",
              "        vertical-align: top;\n",
              "    }\n",
              "\n",
              "    .dataframe thead th {\n",
              "        text-align: right;\n",
              "    }\n",
              "</style>\n",
              "<table border=\"1\" class=\"dataframe\">\n",
              "  <thead>\n",
              "    <tr style=\"text-align: right;\">\n",
              "      <th></th>\n",
              "      <th>sepal_length</th>\n",
              "      <th>sepal_width</th>\n",
              "      <th>petal_length</th>\n",
              "      <th>petal_width</th>\n",
              "      <th>species</th>\n",
              "    </tr>\n",
              "  </thead>\n",
              "  <tbody>\n",
              "    <tr>\n",
              "      <th>0</th>\n",
              "      <td>5.1</td>\n",
              "      <td>3.5</td>\n",
              "      <td>1.4</td>\n",
              "      <td>0.2</td>\n",
              "      <td>setosa</td>\n",
              "    </tr>\n",
              "    <tr>\n",
              "      <th>1</th>\n",
              "      <td>4.9</td>\n",
              "      <td>3.0</td>\n",
              "      <td>1.4</td>\n",
              "      <td>0.2</td>\n",
              "      <td>setosa</td>\n",
              "    </tr>\n",
              "    <tr>\n",
              "      <th>2</th>\n",
              "      <td>4.7</td>\n",
              "      <td>3.2</td>\n",
              "      <td>1.3</td>\n",
              "      <td>0.2</td>\n",
              "      <td>setosa</td>\n",
              "    </tr>\n",
              "    <tr>\n",
              "      <th>3</th>\n",
              "      <td>4.6</td>\n",
              "      <td>3.1</td>\n",
              "      <td>1.5</td>\n",
              "      <td>0.2</td>\n",
              "      <td>setosa</td>\n",
              "    </tr>\n",
              "    <tr>\n",
              "      <th>4</th>\n",
              "      <td>5.0</td>\n",
              "      <td>3.6</td>\n",
              "      <td>1.4</td>\n",
              "      <td>0.2</td>\n",
              "      <td>setosa</td>\n",
              "    </tr>\n",
              "    <tr>\n",
              "      <th>...</th>\n",
              "      <td>...</td>\n",
              "      <td>...</td>\n",
              "      <td>...</td>\n",
              "      <td>...</td>\n",
              "      <td>...</td>\n",
              "    </tr>\n",
              "    <tr>\n",
              "      <th>145</th>\n",
              "      <td>6.7</td>\n",
              "      <td>3.0</td>\n",
              "      <td>5.2</td>\n",
              "      <td>2.3</td>\n",
              "      <td>virginica</td>\n",
              "    </tr>\n",
              "    <tr>\n",
              "      <th>146</th>\n",
              "      <td>6.3</td>\n",
              "      <td>2.5</td>\n",
              "      <td>5.0</td>\n",
              "      <td>1.9</td>\n",
              "      <td>virginica</td>\n",
              "    </tr>\n",
              "    <tr>\n",
              "      <th>147</th>\n",
              "      <td>6.5</td>\n",
              "      <td>3.0</td>\n",
              "      <td>5.2</td>\n",
              "      <td>2.0</td>\n",
              "      <td>virginica</td>\n",
              "    </tr>\n",
              "    <tr>\n",
              "      <th>148</th>\n",
              "      <td>6.2</td>\n",
              "      <td>3.4</td>\n",
              "      <td>5.4</td>\n",
              "      <td>2.3</td>\n",
              "      <td>virginica</td>\n",
              "    </tr>\n",
              "    <tr>\n",
              "      <th>149</th>\n",
              "      <td>5.9</td>\n",
              "      <td>3.0</td>\n",
              "      <td>5.1</td>\n",
              "      <td>1.8</td>\n",
              "      <td>virginica</td>\n",
              "    </tr>\n",
              "  </tbody>\n",
              "</table>\n",
              "<p>150 rows × 5 columns</p>\n",
              "</div>"
            ],
            "text/plain": [
              "     sepal_length  sepal_width  petal_length  petal_width    species\n",
              "0             5.1          3.5           1.4          0.2     setosa\n",
              "1             4.9          3.0           1.4          0.2     setosa\n",
              "2             4.7          3.2           1.3          0.2     setosa\n",
              "3             4.6          3.1           1.5          0.2     setosa\n",
              "4             5.0          3.6           1.4          0.2     setosa\n",
              "..            ...          ...           ...          ...        ...\n",
              "145           6.7          3.0           5.2          2.3  virginica\n",
              "146           6.3          2.5           5.0          1.9  virginica\n",
              "147           6.5          3.0           5.2          2.0  virginica\n",
              "148           6.2          3.4           5.4          2.3  virginica\n",
              "149           5.9          3.0           5.1          1.8  virginica\n",
              "\n",
              "[150 rows x 5 columns]"
            ]
          },
          "metadata": {
            "tags": []
          },
          "execution_count": 35
        }
      ]
    },
    {
      "cell_type": "code",
      "metadata": {
        "colab": {
          "base_uri": "https://localhost:8080/",
          "height": 203
        },
        "id": "VXr5d1VRNhcH",
        "outputId": "a3294c0b-108d-468c-b6ca-78b4f71c56f9"
      },
      "source": [
        "df.head()"
      ],
      "execution_count": null,
      "outputs": [
        {
          "output_type": "execute_result",
          "data": {
            "text/html": [
              "<div>\n",
              "<style scoped>\n",
              "    .dataframe tbody tr th:only-of-type {\n",
              "        vertical-align: middle;\n",
              "    }\n",
              "\n",
              "    .dataframe tbody tr th {\n",
              "        vertical-align: top;\n",
              "    }\n",
              "\n",
              "    .dataframe thead th {\n",
              "        text-align: right;\n",
              "    }\n",
              "</style>\n",
              "<table border=\"1\" class=\"dataframe\">\n",
              "  <thead>\n",
              "    <tr style=\"text-align: right;\">\n",
              "      <th></th>\n",
              "      <th>sepal_length</th>\n",
              "      <th>sepal_width</th>\n",
              "      <th>petal_length</th>\n",
              "      <th>petal_width</th>\n",
              "      <th>species</th>\n",
              "    </tr>\n",
              "  </thead>\n",
              "  <tbody>\n",
              "    <tr>\n",
              "      <th>0</th>\n",
              "      <td>5.1</td>\n",
              "      <td>3.5</td>\n",
              "      <td>1.4</td>\n",
              "      <td>0.2</td>\n",
              "      <td>setosa</td>\n",
              "    </tr>\n",
              "    <tr>\n",
              "      <th>1</th>\n",
              "      <td>4.9</td>\n",
              "      <td>3.0</td>\n",
              "      <td>1.4</td>\n",
              "      <td>0.2</td>\n",
              "      <td>setosa</td>\n",
              "    </tr>\n",
              "    <tr>\n",
              "      <th>2</th>\n",
              "      <td>4.7</td>\n",
              "      <td>3.2</td>\n",
              "      <td>1.3</td>\n",
              "      <td>0.2</td>\n",
              "      <td>setosa</td>\n",
              "    </tr>\n",
              "    <tr>\n",
              "      <th>3</th>\n",
              "      <td>4.6</td>\n",
              "      <td>3.1</td>\n",
              "      <td>1.5</td>\n",
              "      <td>0.2</td>\n",
              "      <td>setosa</td>\n",
              "    </tr>\n",
              "    <tr>\n",
              "      <th>4</th>\n",
              "      <td>5.0</td>\n",
              "      <td>3.6</td>\n",
              "      <td>1.4</td>\n",
              "      <td>0.2</td>\n",
              "      <td>setosa</td>\n",
              "    </tr>\n",
              "  </tbody>\n",
              "</table>\n",
              "</div>"
            ],
            "text/plain": [
              "   sepal_length  sepal_width  petal_length  petal_width species\n",
              "0           5.1          3.5           1.4          0.2  setosa\n",
              "1           4.9          3.0           1.4          0.2  setosa\n",
              "2           4.7          3.2           1.3          0.2  setosa\n",
              "3           4.6          3.1           1.5          0.2  setosa\n",
              "4           5.0          3.6           1.4          0.2  setosa"
            ]
          },
          "metadata": {
            "tags": []
          },
          "execution_count": 36
        }
      ]
    },
    {
      "cell_type": "code",
      "metadata": {
        "colab": {
          "base_uri": "https://localhost:8080/"
        },
        "id": "zG9NlQPaNsJd",
        "outputId": "731eccba-8494-458a-bf12-d1bdf8e6b9ad"
      },
      "source": [
        "df.isnull().sum()"
      ],
      "execution_count": null,
      "outputs": [
        {
          "output_type": "execute_result",
          "data": {
            "text/plain": [
              "sepal_length    0\n",
              "sepal_width     0\n",
              "petal_length    0\n",
              "petal_width     0\n",
              "species         0\n",
              "dtype: int64"
            ]
          },
          "metadata": {
            "tags": []
          },
          "execution_count": 37
        }
      ]
    },
    {
      "cell_type": "code",
      "metadata": {
        "colab": {
          "base_uri": "https://localhost:8080/",
          "height": 417
        },
        "id": "OSzunIIeN6pi",
        "outputId": "b481e031-4a5d-403f-b4f7-ee4eb32d6d82"
      },
      "source": [
        "df.dropna()"
      ],
      "execution_count": null,
      "outputs": [
        {
          "output_type": "execute_result",
          "data": {
            "text/html": [
              "<div>\n",
              "<style scoped>\n",
              "    .dataframe tbody tr th:only-of-type {\n",
              "        vertical-align: middle;\n",
              "    }\n",
              "\n",
              "    .dataframe tbody tr th {\n",
              "        vertical-align: top;\n",
              "    }\n",
              "\n",
              "    .dataframe thead th {\n",
              "        text-align: right;\n",
              "    }\n",
              "</style>\n",
              "<table border=\"1\" class=\"dataframe\">\n",
              "  <thead>\n",
              "    <tr style=\"text-align: right;\">\n",
              "      <th></th>\n",
              "      <th>sepal_length</th>\n",
              "      <th>sepal_width</th>\n",
              "      <th>petal_length</th>\n",
              "      <th>petal_width</th>\n",
              "      <th>species</th>\n",
              "    </tr>\n",
              "  </thead>\n",
              "  <tbody>\n",
              "    <tr>\n",
              "      <th>0</th>\n",
              "      <td>5.1</td>\n",
              "      <td>3.5</td>\n",
              "      <td>1.4</td>\n",
              "      <td>0.2</td>\n",
              "      <td>setosa</td>\n",
              "    </tr>\n",
              "    <tr>\n",
              "      <th>1</th>\n",
              "      <td>4.9</td>\n",
              "      <td>3.0</td>\n",
              "      <td>1.4</td>\n",
              "      <td>0.2</td>\n",
              "      <td>setosa</td>\n",
              "    </tr>\n",
              "    <tr>\n",
              "      <th>2</th>\n",
              "      <td>4.7</td>\n",
              "      <td>3.2</td>\n",
              "      <td>1.3</td>\n",
              "      <td>0.2</td>\n",
              "      <td>setosa</td>\n",
              "    </tr>\n",
              "    <tr>\n",
              "      <th>3</th>\n",
              "      <td>4.6</td>\n",
              "      <td>3.1</td>\n",
              "      <td>1.5</td>\n",
              "      <td>0.2</td>\n",
              "      <td>setosa</td>\n",
              "    </tr>\n",
              "    <tr>\n",
              "      <th>4</th>\n",
              "      <td>5.0</td>\n",
              "      <td>3.6</td>\n",
              "      <td>1.4</td>\n",
              "      <td>0.2</td>\n",
              "      <td>setosa</td>\n",
              "    </tr>\n",
              "    <tr>\n",
              "      <th>...</th>\n",
              "      <td>...</td>\n",
              "      <td>...</td>\n",
              "      <td>...</td>\n",
              "      <td>...</td>\n",
              "      <td>...</td>\n",
              "    </tr>\n",
              "    <tr>\n",
              "      <th>145</th>\n",
              "      <td>6.7</td>\n",
              "      <td>3.0</td>\n",
              "      <td>5.2</td>\n",
              "      <td>2.3</td>\n",
              "      <td>virginica</td>\n",
              "    </tr>\n",
              "    <tr>\n",
              "      <th>146</th>\n",
              "      <td>6.3</td>\n",
              "      <td>2.5</td>\n",
              "      <td>5.0</td>\n",
              "      <td>1.9</td>\n",
              "      <td>virginica</td>\n",
              "    </tr>\n",
              "    <tr>\n",
              "      <th>147</th>\n",
              "      <td>6.5</td>\n",
              "      <td>3.0</td>\n",
              "      <td>5.2</td>\n",
              "      <td>2.0</td>\n",
              "      <td>virginica</td>\n",
              "    </tr>\n",
              "    <tr>\n",
              "      <th>148</th>\n",
              "      <td>6.2</td>\n",
              "      <td>3.4</td>\n",
              "      <td>5.4</td>\n",
              "      <td>2.3</td>\n",
              "      <td>virginica</td>\n",
              "    </tr>\n",
              "    <tr>\n",
              "      <th>149</th>\n",
              "      <td>5.9</td>\n",
              "      <td>3.0</td>\n",
              "      <td>5.1</td>\n",
              "      <td>1.8</td>\n",
              "      <td>virginica</td>\n",
              "    </tr>\n",
              "  </tbody>\n",
              "</table>\n",
              "<p>150 rows × 5 columns</p>\n",
              "</div>"
            ],
            "text/plain": [
              "     sepal_length  sepal_width  petal_length  petal_width    species\n",
              "0             5.1          3.5           1.4          0.2     setosa\n",
              "1             4.9          3.0           1.4          0.2     setosa\n",
              "2             4.7          3.2           1.3          0.2     setosa\n",
              "3             4.6          3.1           1.5          0.2     setosa\n",
              "4             5.0          3.6           1.4          0.2     setosa\n",
              "..            ...          ...           ...          ...        ...\n",
              "145           6.7          3.0           5.2          2.3  virginica\n",
              "146           6.3          2.5           5.0          1.9  virginica\n",
              "147           6.5          3.0           5.2          2.0  virginica\n",
              "148           6.2          3.4           5.4          2.3  virginica\n",
              "149           5.9          3.0           5.1          1.8  virginica\n",
              "\n",
              "[150 rows x 5 columns]"
            ]
          },
          "metadata": {
            "tags": []
          },
          "execution_count": 38
        }
      ]
    },
    {
      "cell_type": "code",
      "metadata": {
        "id": "rg8tL1fIOKUp"
      },
      "source": [
        ""
      ],
      "execution_count": null,
      "outputs": []
    },
    {
      "cell_type": "markdown",
      "metadata": {
        "id": "Zeajk2_9F0L_"
      },
      "source": [
        "##  **2. Program using matplotlib – use minimum 5 plotting techniques** \n",
        "\n"
      ]
    },
    {
      "cell_type": "code",
      "metadata": {
        "id": "WxNWznCCPeqP"
      },
      "source": [
        "import numpy as np\n",
        "import pandas as pd\n",
        "import matplotlib.pyplot as plt"
      ],
      "execution_count": null,
      "outputs": []
    },
    {
      "cell_type": "code",
      "metadata": {
        "colab": {
          "base_uri": "https://localhost:8080/",
          "height": 279
        },
        "id": "mx-5vIPRHpVG",
        "outputId": "6cf21c53-4cb1-40f7-f4c9-76635a24167c"
      },
      "source": [
        "# Line graph.\n",
        "x = np.arange(0,16,4)\n",
        "y = np.arange(0,16,4)\n",
        "plt.plot(x,y,label = 'x = y graph')\n",
        "plt.ylabel('Y-axis')\n",
        "plt.xlabel('X-axis')\n",
        "plt.legend()\n",
        "plt.show()"
      ],
      "execution_count": null,
      "outputs": [
        {
          "output_type": "display_data",
          "data": {
            "image/png": "[encoded data removed]",
            "text/plain": [
              "<Figure size 432x288 with 1 Axes>"
            ]
          },
          "metadata": {
            "tags": [],
            "needs_background": "light"
          }
        }
      ]
    },
    {
      "cell_type": "code",
      "metadata": {
        "colab": {
          "base_uri": "https://localhost:8080/",
          "height": 279
        },
        "id": "rRyaD3e_IKSz",
        "outputId": "550032f6-bc95-4580-8932-ac25b04285b1"
      },
      "source": [
        "# Scatter plot\n",
        "x1 = [1,2,3,4.5,6,7,8,10]\n",
        "y1 = [3,4.5,2.2,10,2.1,2,1,0.5]\n",
        "plt.scatter(x1,y1,label = 'Scattered points',color='Orange')\n",
        "plt.xlabel('X-axis')\n",
        "plt.ylabel('Y-axis')\n",
        "plt.legend()\n",
        "plt.show()"
      ],
      "execution_count": null,
      "outputs": [
        {
          "output_type": "display_data",
          "data": {
            "image/png": "[encoded data removed]",
            "text/plain": [
              "<Figure size 432x288 with 1 Axes>"
            ]
          },
          "metadata": {
            "tags": [],
            "needs_background": "light"
          }
        }
      ]
    },
    {
      "cell_type": "code",
      "metadata": {
        "colab": {
          "base_uri": "https://localhost:8080/",
          "height": 295
        },
        "id": "VoDmnB_GJiCu",
        "outputId": "abfebcba-e238-44d0-ff09-ddb8be6e4ea5"
      },
      "source": [
        "# Bar Graph\n",
        "x1 = [2,4,6,8,10]\n",
        "y1 = [5,2,7,8,2]\n",
        "x2 = [11,13,15,17,19]\n",
        "y2 = [8,6,2,5,6]\n",
        "plt.bar(x1, y1, label=\"Example 1\",color='r')\n",
        "plt.bar(x2, y2, label=\"Example 2\", color=\"g\")\n",
        "plt.legend()\n",
        "plt.xlabel(\"X axis\")\n",
        "plt.ylabel(\"Y axis\")\n",
        "plt.title(\"Bar graph\")\n",
        "plt.show()"
      ],
      "execution_count": null,
      "outputs": [
        {
          "output_type": "display_data",
          "data": {
            "image/png": "[encoded data removed]",
            "text/plain": [
              "<Figure size 432x288 with 1 Axes>"
            ]
          },
          "metadata": {
            "tags": [],
            "needs_background": "light"
          }
        }
      ]
    },
    {
      "cell_type": "code",
      "metadata": {
        "colab": {
          "base_uri": "https://localhost:8080/",
          "height": 248
        },
        "id": "5dG_56y-KO4E",
        "outputId": "2830babd-d324-482e-90bf-4ae2b0b8ce7a"
      },
      "source": [
        "# Pie Chart \n",
        "games_played = [2,6,3,8,8]\n",
        "plt.pie(games_played, labels=['COD','Minecraft','COC','ACO','BGMI'], colors=['Gold','Lightgreen','Green','Red','Lightblue'], shadow=True, explode=(0,0.2,0,0,0.1))\n",
        "plt.show()"
      ],
      "execution_count": null,
      "outputs": [
        {
          "output_type": "display_data",
          "data": {
            "image/png": "[encoded data removed]",
            "text/plain": [
              "<Figure size 432x288 with 1 Axes>"
            ]
          },
          "metadata": {
            "tags": []
          }
        }
      ]
    },
    {
      "cell_type": "code",
      "metadata": {
        "colab": {
          "base_uri": "https://localhost:8080/",
          "height": 265
        },
        "id": "OtbQoms1METj",
        "outputId": "a480f52d-b632-4b09-9c61-4a7ecc326165"
      },
      "source": [
        "# Histogram\n",
        "lst = [2,5,70,40,30,45,50,45,43,40,44,60,80,81,72,85,88,89,84,7,13,57,18,90,77,32,21,20,40]\n",
        "plt.hist(lst,range=(0,100), bins=10, histtype='bar', rwidth=0.8)\n",
        "plt.show()"
      ],
      "execution_count": null,
      "outputs": [
        {
          "output_type": "display_data",
          "data": {
            "image/png": "[encoded data removed]",
            "text/plain": [
              "<Figure size 432x288 with 1 Axes>"
            ]
          },
          "metadata": {
            "tags": [],
            "needs_background": "light"
          }
        }
      ]
    },
    {
      "cell_type": "markdown",
      "metadata": {
        "id": "AXaLe88MGBCS"
      },
      "source": [
        "# Exercise 9"
      ]
    },
    {
      "cell_type": "markdown",
      "metadata": {
        "id": "C4lNVK3lGDoy"
      },
      "source": [
        "## **1. Graph using matplotlib**"
      ]
    },
    {
      "cell_type": "code",
      "metadata": {
        "colab": {
          "base_uri": "https://localhost:8080/",
          "height": 265
        },
        "id": "YLPB18DOGC4T",
        "outputId": "401eb3c2-da7b-4e93-cc44-c59b90b4ecf5"
      },
      "source": [
        "import numpy as np\n",
        "from matplotlib import *\n",
        "t = np.arange(0., 5., 0.2)\n",
        "\n",
        "#Two or more lines\n",
        "\n",
        "plt.plot(t, t, 'r--', t, t**2, 'b+', t, t**3, 'gx')\n",
        "plt.show()"
      ],
      "execution_count": null,
      "outputs": [
        {
          "output_type": "display_data",
          "data": {
            "image/png": "[encoded data removed]",
            "text/plain": [
              "<Figure size 432x288 with 1 Axes>"
            ]
          },
          "metadata": {
            "tags": [],
            "needs_background": "light"
          }
        }
      ]
    },
    {
      "cell_type": "code",
      "metadata": {
        "colab": {
          "base_uri": "https://localhost:8080/",
          "height": 300
        },
        "id": "CrHF7q1oQYtv",
        "outputId": "5ab1a0f1-8ac6-4f56-b38b-29001a3470b7"
      },
      "source": [
        "#With legend \n",
        "plt.plot([1, 2, 3, 4], [1, 8, 9.9, 16], 'bo', label=\" Sample Graph\")\n",
        "plt.legend(loc=\"upper left\")\n",
        "plt.xlabel(' Height')\n",
        "plt.ylabel('Weight')\n",
        "plt.axis([0, 5, 0, 20])"
      ],
      "execution_count": null,
      "outputs": [
        {
          "output_type": "execute_result",
          "data": {
            "text/plain": [
              "(0.0, 5.0, 0.0, 20.0)"
            ]
          },
          "metadata": {
            "tags": []
          },
          "execution_count": 75
        },
        {
          "output_type": "display_data",
          "data": {
            "image/png": "[encoded data removed]",
            "text/plain": [
              "<Figure size 432x288 with 1 Axes>"
            ]
          },
          "metadata": {
            "tags": [],
            "needs_background": "light"
          }
        }
      ]
    },
    {
      "cell_type": "code",
      "metadata": {
        "colab": {
          "base_uri": "https://localhost:8080/",
          "height": 299
        },
        "id": "GYBJd2WNQv4G",
        "outputId": "78970c72-5796-469b-cf4e-77a0ea72237a"
      },
      "source": [
        "style.use(\"ggplot\")#this is used for grid look\n",
        "x = [5, 8, 10]\n",
        "y = [12, 16, 6]\n",
        "x2 = [6, 9, 11]\n",
        "y2 = [6, 15, 7]\n",
        "plt.plot(x, y, 'Orange', label=\"line one\", linewidth=5)\n",
        "plt.plot(x2, y2, 'cyan', label=\"line two\", linewidth=5)\n",
        "plt.xlabel(\"X axis\")\n",
        "plt.ylabel(\"Y axis\")\n",
        "plt.title(\"Sample graph\")\n",
        "plt.legend() # Bydeafult upper right\n",
        "#plt.grid(True, color=\"b\")#this is used for color of lines in grid\n",
        "plt.grid(True)\n",
        "plt.show()"
      ],
      "execution_count": null,
      "outputs": [
        {
          "output_type": "display_data",
          "data": {
            "image/png": "[encoded data removed]",
            "text/plain": [
              "<Figure size 432x288 with 1 Axes>"
            ]
          },
          "metadata": {
            "tags": []
          }
        }
      ]
    },
    {
      "cell_type": "code",
      "metadata": {
        "colab": {
          "base_uri": "https://localhost:8080/",
          "height": 299
        },
        "id": "0k75Qch5RgYx",
        "outputId": "72af23fe-92bb-4b31-c255-683b19ebb139"
      },
      "source": [
        "# Bar Graph\n",
        "x1 = [2,4,6,8,10]\n",
        "y1 = [5,2,7,8,2]\n",
        "x2 = [11,13,15,17,19]\n",
        "y2 = [8,6,2,5,6]\n",
        "plt.bar(x1, y1, label=\"Example 1\",color='r')\n",
        "plt.bar(x2, y2, label=\"Example 2\", color=\"g\")\n",
        "plt.legend()\n",
        "plt.xlabel(\"X axis\")\n",
        "plt.ylabel(\"Y axis\")\n",
        "plt.title(\"Bar graph\")\n",
        "plt.show()"
      ],
      "execution_count": null,
      "outputs": [
        {
          "output_type": "display_data",
          "data": {
            "image/png": "[encoded data removed]",
            "text/plain": [
              "<Figure size 432x288 with 1 Axes>"
            ]
          },
          "metadata": {
            "tags": []
          }
        }
      ]
    },
    {
      "cell_type": "code",
      "metadata": {
        "colab": {
          "base_uri": "https://localhost:8080/",
          "height": 400
        },
        "id": "oRipRgOaRyIs",
        "outputId": "bb34ac30-e6ba-473d-e08b-0d0454b1dd81"
      },
      "source": [
        "x = np.arange(0, 3 * np.pi, 0.1)\n",
        "print(x)\n",
        "ytan = np.tan(x)\n",
        "ycos = np.cos(x)\n",
        "ysin = np.sin(x)\n",
        "# Plot the points using matplotlib\n",
        "plt.plot(x, ytan)\n",
        "plt.plot(x, ycos)\n",
        "plt.plot(x,ysin)\n",
        "plt.xlabel('x axis label')\n",
        "plt.ylabel('y axis label')\n",
        "plt.title('Tangent, Cosine, Sine')\n",
        "plt.legend(['Tangent', 'Cosine', 'Sine'])\n",
        "plt.show()"
      ],
      "execution_count": null,
      "outputs": [
        {
          "output_type": "stream",
          "text": [
            "[0.  0.1 0.2 0.3 0.4 0.5 0.6 0.7 0.8 0.9 1.  1.1 1.2 1.3 1.4 1.5 1.6 1.7\n",
            " 1.8 1.9 2.  2.1 2.2 2.3 2.4 2.5 2.6 2.7 2.8 2.9 3.  3.1 3.2 3.3 3.4 3.5\n",
            " 3.6 3.7 3.8 3.9 4.  4.1 4.2 4.3 4.4 4.5 4.6 4.7 4.8 4.9 5.  5.1 5.2 5.3\n",
            " 5.4 5.5 5.6 5.7 5.8 5.9 6.  6.1 6.2 6.3 6.4 6.5 6.6 6.7 6.8 6.9 7.  7.1\n",
            " 7.2 7.3 7.4 7.5 7.6 7.7 7.8 7.9 8.  8.1 8.2 8.3 8.4 8.5 8.6 8.7 8.8 8.9\n",
            " 9.  9.1 9.2 9.3 9.4]\n"
          ],
          "name": "stdout"
        },
        {
          "output_type": "display_data",
          "data": {
            "image/png": "[encoded data removed]",
            "text/plain": [
              "<Figure size 432x288 with 1 Axes>"
            ]
          },
          "metadata": {
            "tags": []
          }
        }
      ]
    },
    {
      "cell_type": "code",
      "metadata": {
        "id": "P9befpAbRx-G"
      },
      "source": [
        ""
      ],
      "execution_count": null,
      "outputs": []
    },
    {
      "cell_type": "markdown",
      "metadata": {
        "id": "GKM0qdxLGLnQ"
      },
      "source": [
        "# Exercise 10 "
      ]
    },
    {
      "cell_type": "markdown",
      "metadata": {
        "id": "D2IFAZazGQG6"
      },
      "source": [
        "## **1. Vector using matplotlib**"
      ]
    },
    {
      "cell_type": "code",
      "metadata": {
        "colab": {
          "base_uri": "https://localhost:8080/",
          "height": 265
        },
        "id": "byPjBEMAGPBA",
        "outputId": "40dcb42d-6286-4363-a892-b55a4fdb1b4b"
      },
      "source": [
        "origin = np.array([[0.0, 0.0, 0.0, 0.0, 0.0, 0.0], [0.0, 0.0, 0.0, 0.0, 0.0, 0.0]])\n",
        "plt.quiver(*origin, [1, -1, 0, 0, 0.5, -0.5], [0, 0, 1, -1, 0.4, 0.5], color=[\"black\",\"black\",\"black\",\"black\",'red', 'green'],scale=3) #vectors are of length v1(start = (0,0), end=(1,0.5)) v2(0.5, )\n",
        "\n",
        "plt.show()"
      ],
      "execution_count": null,
      "outputs": [
        {
          "output_type": "display_data",
          "data": {
            "image/png": "[encoded data removed]",
            "text/plain": [
              "<Figure size 432x288 with 1 Axes>"
            ]
          },
          "metadata": {
            "tags": []
          }
        }
      ]
    }
  ]
}